{
 "cells": [
  {
   "cell_type": "markdown",
   "metadata": {},
   "source": [
    "# Ejercicios Numpy"
   ]
  },
  {
   "cell_type": "code",
   "execution_count": 1,
   "metadata": {},
   "outputs": [],
   "source": [
    "import numpy as np"
   ]
  },
  {
   "cell_type": "markdown",
   "metadata": {},
   "source": [
    "___"
   ]
  },
  {
   "cell_type": "markdown",
   "metadata": {},
   "source": [
    "## Parte I"
   ]
  },
  {
   "cell_type": "markdown",
   "metadata": {},
   "source": [
    "- Crea un vector con valores de 10 a 49 en pasos de 0.5."
   ]
  },
  {
   "cell_type": "code",
   "execution_count": 2,
   "metadata": {},
   "outputs": [],
   "source": [
    "mi_array=np.arange(10,49,0.5)"
   ]
  },
  {
   "cell_type": "code",
   "execution_count": 3,
   "metadata": {},
   "outputs": [
    {
     "data": {
      "text/plain": [
       "array([10. , 10.5, 11. , 11.5, 12. , 12.5, 13. , 13.5, 14. , 14.5, 15. ,\n",
       "       15.5, 16. , 16.5, 17. , 17.5, 18. , 18.5, 19. , 19.5, 20. , 20.5,\n",
       "       21. , 21.5, 22. , 22.5, 23. , 23.5, 24. , 24.5, 25. , 25.5, 26. ,\n",
       "       26.5, 27. , 27.5, 28. , 28.5, 29. , 29.5, 30. , 30.5, 31. , 31.5,\n",
       "       32. , 32.5, 33. , 33.5, 34. , 34.5, 35. , 35.5, 36. , 36.5, 37. ,\n",
       "       37.5, 38. , 38.5, 39. , 39.5, 40. , 40.5, 41. , 41.5, 42. , 42.5,\n",
       "       43. , 43.5, 44. , 44.5, 45. , 45.5, 46. , 46.5, 47. , 47.5, 48. ,\n",
       "       48.5])"
      ]
     },
     "execution_count": 3,
     "metadata": {},
     "output_type": "execute_result"
    }
   ],
   "source": [
    "mi_array"
   ]
  },
  {
   "cell_type": "markdown",
   "metadata": {},
   "source": [
    "- Muestra su dimensión y su tipo."
   ]
  },
  {
   "cell_type": "code",
   "execution_count": 4,
   "metadata": {},
   "outputs": [
    {
     "data": {
      "text/plain": [
       "1"
      ]
     },
     "execution_count": 4,
     "metadata": {},
     "output_type": "execute_result"
    }
   ],
   "source": [
    "mi_array.ndim"
   ]
  },
  {
   "cell_type": "code",
   "execution_count": 5,
   "metadata": {},
   "outputs": [
    {
     "data": {
      "text/plain": [
       "(78,)"
      ]
     },
     "execution_count": 5,
     "metadata": {},
     "output_type": "execute_result"
    }
   ],
   "source": [
    "mi_array.shape"
   ]
  },
  {
   "cell_type": "code",
   "execution_count": 6,
   "metadata": {},
   "outputs": [
    {
     "data": {
      "text/plain": [
       "dtype('float64')"
      ]
     },
     "execution_count": 6,
     "metadata": {},
     "output_type": "execute_result"
    }
   ],
   "source": [
    "mi_array.dtype"
   ]
  },
  {
   "cell_type": "markdown",
   "metadata": {},
   "source": [
    "- Crea un array con los números que tu elijas de dimensiones 2x3."
   ]
  },
  {
   "cell_type": "code",
   "execution_count": 7,
   "metadata": {},
   "outputs": [],
   "source": [
    "otra_array=np.zeros((2,3))"
   ]
  },
  {
   "cell_type": "code",
   "execution_count": 8,
   "metadata": {},
   "outputs": [
    {
     "data": {
      "text/plain": [
       "array([[0., 0., 0.],\n",
       "       [0., 0., 0.]])"
      ]
     },
     "execution_count": 8,
     "metadata": {},
     "output_type": "execute_result"
    }
   ],
   "source": [
    "otra_array"
   ]
  },
  {
   "cell_type": "markdown",
   "metadata": {},
   "source": [
    "- Redimensiona el array anterior a 3x2"
   ]
  },
  {
   "cell_type": "code",
   "execution_count": 9,
   "metadata": {},
   "outputs": [
    {
     "data": {
      "text/plain": [
       "(2, 3)"
      ]
     },
     "execution_count": 9,
     "metadata": {},
     "output_type": "execute_result"
    }
   ],
   "source": [
    "otra_array.shape"
   ]
  },
  {
   "cell_type": "code",
   "execution_count": 10,
   "metadata": {},
   "outputs": [
    {
     "data": {
      "text/plain": [
       "array([[0., 0.],\n",
       "       [0., 0.],\n",
       "       [0., 0.]])"
      ]
     },
     "execution_count": 10,
     "metadata": {},
     "output_type": "execute_result"
    }
   ],
   "source": [
    "otra_array.reshape(3,2)"
   ]
  },
  {
   "cell_type": "markdown",
   "metadata": {},
   "source": [
    "### Indexing y slicing:"
   ]
  },
  {
   "cell_type": "markdown",
   "metadata": {},
   "source": [
    "- Crea un array unidimensional de 10 elemento aleatorios."
   ]
  },
  {
   "cell_type": "code",
   "execution_count": 11,
   "metadata": {},
   "outputs": [],
   "source": [
    "import random"
   ]
  },
  {
   "cell_type": "code",
   "execution_count": 12,
   "metadata": {},
   "outputs": [],
   "source": [
    "array_uni=np.random.random((10))"
   ]
  },
  {
   "cell_type": "code",
   "execution_count": 13,
   "metadata": {},
   "outputs": [
    {
     "data": {
      "text/plain": [
       "array([0.71404411, 0.3637973 , 0.43148182, 0.76497575, 0.23752933,\n",
       "       0.90144206, 0.69189958, 0.75407052, 0.4417384 , 0.48523219])"
      ]
     },
     "execution_count": 13,
     "metadata": {},
     "output_type": "execute_result"
    }
   ],
   "source": [
    "array_uni"
   ]
  },
  {
   "cell_type": "markdown",
   "metadata": {},
   "source": [
    "- Crea un array bidimensional de 10x10 elementos aletorios."
   ]
  },
  {
   "cell_type": "code",
   "execution_count": 14,
   "metadata": {},
   "outputs": [],
   "source": [
    "array_bi=np.random.random((10,10))"
   ]
  },
  {
   "cell_type": "code",
   "execution_count": 15,
   "metadata": {},
   "outputs": [
    {
     "data": {
      "text/plain": [
       "array([[0.56910489, 0.2937959 , 0.26784359, 0.24728428, 0.35532663,\n",
       "        0.98026691, 0.07233158, 0.55668422, 0.98992576, 0.57777327],\n",
       "       [0.1795227 , 0.17948924, 0.31036085, 0.47084974, 0.21960824,\n",
       "        0.73294798, 0.86820833, 0.36591462, 0.85428498, 0.64514516],\n",
       "       [0.21304109, 0.45824227, 0.12514217, 0.55976241, 0.19495662,\n",
       "        0.82708009, 0.28098272, 0.72425612, 0.24863798, 0.7281944 ],\n",
       "       [0.18583007, 0.63772713, 0.93631675, 0.1042812 , 0.38590513,\n",
       "        0.99232109, 0.70314317, 0.06983831, 0.90989708, 0.26332544],\n",
       "       [0.72638657, 0.26531176, 0.57135673, 0.23378755, 0.29789455,\n",
       "        0.84386202, 0.7820997 , 0.85798441, 0.9847536 , 0.88239856],\n",
       "       [0.83233609, 0.00761313, 0.64261654, 0.44849282, 0.22533529,\n",
       "        0.74868301, 0.40820853, 0.20529722, 0.33903038, 0.39763153],\n",
       "       [0.78750602, 0.56823745, 0.58555931, 0.5446499 , 0.59381181,\n",
       "        0.37850938, 0.2739878 , 0.81642604, 0.04382508, 0.07732176],\n",
       "       [0.18715581, 0.43471855, 0.35518909, 0.45759064, 0.312119  ,\n",
       "        0.21916337, 0.74140444, 0.09622734, 0.29528151, 0.29439849],\n",
       "       [0.2818357 , 0.31386126, 0.79239301, 0.65653319, 0.37604882,\n",
       "        0.31340246, 0.71956088, 0.77384693, 0.01883326, 0.50129268],\n",
       "       [0.25772156, 0.66649014, 0.70519415, 0.18790151, 0.17511524,\n",
       "        0.52149415, 0.29319682, 0.74782733, 0.44681465, 0.93629304]])"
      ]
     },
     "execution_count": 15,
     "metadata": {},
     "output_type": "execute_result"
    }
   ],
   "source": [
    "array_bi"
   ]
  },
  {
   "cell_type": "markdown",
   "metadata": {},
   "source": [
    "- Accede al primer elemento y al penúltimo número de cada array. "
   ]
  },
  {
   "cell_type": "code",
   "execution_count": 16,
   "metadata": {},
   "outputs": [
    {
     "data": {
      "text/plain": [
       "0.7140441129456647"
      ]
     },
     "execution_count": 16,
     "metadata": {},
     "output_type": "execute_result"
    }
   ],
   "source": [
    "array_uni[0]"
   ]
  },
  {
   "cell_type": "code",
   "execution_count": 17,
   "metadata": {},
   "outputs": [
    {
     "data": {
      "text/plain": [
       "0.44173839600965803"
      ]
     },
     "execution_count": 17,
     "metadata": {},
     "output_type": "execute_result"
    }
   ],
   "source": [
    "array_uni[-2]"
   ]
  },
  {
   "cell_type": "code",
   "execution_count": 18,
   "metadata": {},
   "outputs": [
    {
     "data": {
      "text/plain": [
       "0.5691048858502243"
      ]
     },
     "execution_count": 18,
     "metadata": {},
     "output_type": "execute_result"
    }
   ],
   "source": [
    "array_bi[0,0]"
   ]
  },
  {
   "cell_type": "code",
   "execution_count": 19,
   "metadata": {},
   "outputs": [
    {
     "data": {
      "text/plain": [
       "0.4468146541537925"
      ]
     },
     "execution_count": 19,
     "metadata": {},
     "output_type": "execute_result"
    }
   ],
   "source": [
    "array_bi[-1,-2]"
   ]
  },
  {
   "cell_type": "markdown",
   "metadata": {},
   "source": [
    "- Array unidimensional: muestra todos los elementos en posiciones pares desde la posición 6."
   ]
  },
  {
   "cell_type": "code",
   "execution_count": 20,
   "metadata": {},
   "outputs": [
    {
     "data": {
      "text/plain": [
       "array([0.69189958, 0.4417384 ])"
      ]
     },
     "execution_count": 20,
     "metadata": {},
     "output_type": "execute_result"
    }
   ],
   "source": [
    "array_uni[6::2]"
   ]
  },
  {
   "cell_type": "markdown",
   "metadata": {},
   "source": [
    "- Array bidimensional: muestra una submatriz con las dos primeras filas y las tres primeras columnas."
   ]
  },
  {
   "cell_type": "code",
   "execution_count": 21,
   "metadata": {},
   "outputs": [
    {
     "data": {
      "text/plain": [
       "array([[0.56910489, 0.2937959 , 0.26784359, 0.24728428, 0.35532663,\n",
       "        0.98026691, 0.07233158, 0.55668422, 0.98992576, 0.57777327],\n",
       "       [0.1795227 , 0.17948924, 0.31036085, 0.47084974, 0.21960824,\n",
       "        0.73294798, 0.86820833, 0.36591462, 0.85428498, 0.64514516]])"
      ]
     },
     "execution_count": 21,
     "metadata": {},
     "output_type": "execute_result"
    }
   ],
   "source": [
    "array_bi[:2]"
   ]
  },
  {
   "cell_type": "markdown",
   "metadata": {},
   "source": [
    "- Divide el array bidimensional en dos: uno con las 2 primera fila y otro con las siguientes filas"
   ]
  },
  {
   "cell_type": "code",
   "execution_count": 22,
   "metadata": {},
   "outputs": [
    {
     "data": {
      "text/plain": [
       "array([[0.56910489, 0.2937959 , 0.26784359, 0.24728428, 0.35532663,\n",
       "        0.98026691, 0.07233158, 0.55668422, 0.98992576, 0.57777327],\n",
       "       [0.1795227 , 0.17948924, 0.31036085, 0.47084974, 0.21960824,\n",
       "        0.73294798, 0.86820833, 0.36591462, 0.85428498, 0.64514516]])"
      ]
     },
     "execution_count": 22,
     "metadata": {},
     "output_type": "execute_result"
    }
   ],
   "source": [
    "bi_a=array_bi[:2]\n",
    "bi_a"
   ]
  },
  {
   "cell_type": "code",
   "execution_count": 23,
   "metadata": {},
   "outputs": [
    {
     "data": {
      "text/plain": [
       "array([[0.21304109, 0.45824227, 0.12514217, 0.55976241, 0.19495662,\n",
       "        0.82708009, 0.28098272, 0.72425612, 0.24863798, 0.7281944 ],\n",
       "       [0.18583007, 0.63772713, 0.93631675, 0.1042812 , 0.38590513,\n",
       "        0.99232109, 0.70314317, 0.06983831, 0.90989708, 0.26332544],\n",
       "       [0.72638657, 0.26531176, 0.57135673, 0.23378755, 0.29789455,\n",
       "        0.84386202, 0.7820997 , 0.85798441, 0.9847536 , 0.88239856],\n",
       "       [0.83233609, 0.00761313, 0.64261654, 0.44849282, 0.22533529,\n",
       "        0.74868301, 0.40820853, 0.20529722, 0.33903038, 0.39763153],\n",
       "       [0.78750602, 0.56823745, 0.58555931, 0.5446499 , 0.59381181,\n",
       "        0.37850938, 0.2739878 , 0.81642604, 0.04382508, 0.07732176],\n",
       "       [0.18715581, 0.43471855, 0.35518909, 0.45759064, 0.312119  ,\n",
       "        0.21916337, 0.74140444, 0.09622734, 0.29528151, 0.29439849],\n",
       "       [0.2818357 , 0.31386126, 0.79239301, 0.65653319, 0.37604882,\n",
       "        0.31340246, 0.71956088, 0.77384693, 0.01883326, 0.50129268],\n",
       "       [0.25772156, 0.66649014, 0.70519415, 0.18790151, 0.17511524,\n",
       "        0.52149415, 0.29319682, 0.74782733, 0.44681465, 0.93629304]])"
      ]
     },
     "execution_count": 23,
     "metadata": {},
     "output_type": "execute_result"
    }
   ],
   "source": [
    "bi_b=array_bi[2:]\n",
    "bi_b"
   ]
  },
  {
   "cell_type": "markdown",
   "metadata": {},
   "source": [
    "- Crea una función que reciba como parámetro un número n y devuelva una matriz cuadrada (dos dimensiones) de nxn donde los elementos de la diagonal principal valgan 5 y el resto valgan n."
   ]
  },
  {
   "cell_type": "code",
   "execution_count": 24,
   "metadata": {},
   "outputs": [],
   "source": [
    "def fun(n):\n",
    "    return np.eye(n)*(5-n)+n"
   ]
  },
  {
   "cell_type": "code",
   "execution_count": 25,
   "metadata": {},
   "outputs": [
    {
     "data": {
      "text/plain": [
       "array([[5., 6., 6., 6., 6., 6.],\n",
       "       [6., 5., 6., 6., 6., 6.],\n",
       "       [6., 6., 5., 6., 6., 6.],\n",
       "       [6., 6., 6., 5., 6., 6.],\n",
       "       [6., 6., 6., 6., 5., 6.],\n",
       "       [6., 6., 6., 6., 6., 5.]])"
      ]
     },
     "execution_count": 25,
     "metadata": {},
     "output_type": "execute_result"
    }
   ],
   "source": [
    "fun(6)"
   ]
  },
  {
   "cell_type": "markdown",
   "metadata": {},
   "source": [
    "- Crea una función que genere un esquema de tablero de ajedrez (con valores 1 y 0, enteros) en base a dos parámetros: la dimensión (cuadrada) del tablero n y un flag que indique si el primer elemento de la primera fila debe ser un 1 (True) o un 0 (False)."
   ]
  },
  {
   "cell_type": "code",
   "execution_count": 26,
   "metadata": {},
   "outputs": [],
   "source": [
    "def chess (n, flag=False):\n",
    "    array=np.zeros((n,n)) if flag else np.ones((n,n))\n",
    "    array[::2, ::2] = flag\n",
    "    array[1::2, 1::2] = flag\n",
    "    return array"
   ]
  },
  {
   "cell_type": "code",
   "execution_count": 27,
   "metadata": {},
   "outputs": [
    {
     "data": {
      "text/plain": [
       "array([[0., 1., 0., 1., 0., 1., 0.],\n",
       "       [1., 0., 1., 0., 1., 0., 1.],\n",
       "       [0., 1., 0., 1., 0., 1., 0.],\n",
       "       [1., 0., 1., 0., 1., 0., 1.],\n",
       "       [0., 1., 0., 1., 0., 1., 0.],\n",
       "       [1., 0., 1., 0., 1., 0., 1.],\n",
       "       [0., 1., 0., 1., 0., 1., 0.]])"
      ]
     },
     "execution_count": 27,
     "metadata": {},
     "output_type": "execute_result"
    }
   ],
   "source": [
    "chess(7)"
   ]
  },
  {
   "cell_type": "markdown",
   "metadata": {},
   "source": [
    "---"
   ]
  },
  {
   "cell_type": "markdown",
   "metadata": {},
   "source": [
    "## Parte II"
   ]
  },
  {
   "cell_type": "markdown",
   "metadata": {},
   "source": [
    "-  Crea una función que reciba dos números n y m que definirán ancho y alto de una matriz de nxm elementos numéricos secuenciales y un booleano que definirá si se debe devolver la matriz generada (False) o su traspuesta (True)."
   ]
  },
  {
   "cell_type": "code",
   "execution_count": 28,
   "metadata": {},
   "outputs": [],
   "source": [
    "def num(n,m,trp):\n",
    "    array=np.arange(n*m).reshape((n,m))\n",
    "    if trp:\n",
    "        return array.T\n",
    "    else:\n",
    "        return array\n",
    "    "
   ]
  },
  {
   "cell_type": "code",
   "execution_count": 29,
   "metadata": {},
   "outputs": [
    {
     "data": {
      "text/plain": [
       "array([[ 0,  5, 10, 15, 20, 25, 30, 35, 40, 45],\n",
       "       [ 1,  6, 11, 16, 21, 26, 31, 36, 41, 46],\n",
       "       [ 2,  7, 12, 17, 22, 27, 32, 37, 42, 47],\n",
       "       [ 3,  8, 13, 18, 23, 28, 33, 38, 43, 48],\n",
       "       [ 4,  9, 14, 19, 24, 29, 34, 39, 44, 49]])"
      ]
     },
     "execution_count": 29,
     "metadata": {},
     "output_type": "execute_result"
    }
   ],
   "source": [
    "num(10,5,True)"
   ]
  },
  {
   "cell_type": "markdown",
   "metadata": {},
   "source": [
    "- Crea una función que reciba una matriz y chequee si hay o no algún valor negativo en la misma."
   ]
  },
  {
   "cell_type": "code",
   "execution_count": 30,
   "metadata": {},
   "outputs": [],
   "source": [
    "def matriz_check(matriz):\n",
    "    return (matriz < 0).any()\n",
    "    "
   ]
  },
  {
   "cell_type": "code",
   "execution_count": 31,
   "metadata": {},
   "outputs": [],
   "source": [
    "matriz= np.random.randint(-10,10,(100,100))"
   ]
  },
  {
   "cell_type": "code",
   "execution_count": 32,
   "metadata": {},
   "outputs": [
    {
     "data": {
      "text/plain": [
       "True"
      ]
     },
     "execution_count": 32,
     "metadata": {},
     "output_type": "execute_result"
    }
   ],
   "source": [
    "matriz_check(matriz)"
   ]
  },
  {
   "cell_type": "markdown",
   "metadata": {},
   "source": [
    "-  Crea una función que utilizando la del ejercicio anterior, sume el valor absoluto de todos los elementos negativos de una matriz recibida como parámetro o devuelve \"No hay negativos\" en caso de que no los haya."
   ]
  },
  {
   "cell_type": "code",
   "execution_count": 33,
   "metadata": {},
   "outputs": [],
   "source": [
    "def suma_neg(matrix):\n",
    "    if matriz_check(matrix):\n",
    "        idx = matrix < 0\n",
    "        result = np.abs(matrix[idx]).sum\n",
    "    else:\n",
    "        result = 'No hay negativos'\n",
    "    return result"
   ]
  },
  {
   "cell_type": "code",
   "execution_count": 34,
   "metadata": {},
   "outputs": [
    {
     "name": "stdout",
     "output_type": "stream",
     "text": [
      "67.1 µs ± 614 ns per loop (mean ± std. dev. of 7 runs, 10000 loops each)\n"
     ]
    }
   ],
   "source": [
    "%%timeit\n",
    "suma_neg(matriz)"
   ]
  },
  {
   "cell_type": "markdown",
   "metadata": {},
   "source": [
    "---"
   ]
  },
  {
   "cell_type": "markdown",
   "metadata": {},
   "source": [
    "## Parte III"
   ]
  },
  {
   "cell_type": "markdown",
   "metadata": {},
   "source": [
    "- Crea un vector de 30 elementos aleatorios y calcula su media."
   ]
  },
  {
   "cell_type": "code",
   "execution_count": 35,
   "metadata": {},
   "outputs": [],
   "source": [
    "v=np.random.random((30))"
   ]
  },
  {
   "cell_type": "code",
   "execution_count": 36,
   "metadata": {},
   "outputs": [
    {
     "data": {
      "text/plain": [
       "0.5175709807053734"
      ]
     },
     "execution_count": 36,
     "metadata": {},
     "output_type": "execute_result"
    }
   ],
   "source": [
    "v.mean()"
   ]
  },
  {
   "cell_type": "markdown",
   "metadata": {},
   "source": [
    "- Crea una matriz de 4x8 aleatoria y substrae la media por columnas."
   ]
  },
  {
   "cell_type": "code",
   "execution_count": 37,
   "metadata": {},
   "outputs": [
    {
     "name": "stdout",
     "output_type": "stream",
     "text": [
      "[[ 0.31200312 -1.0797967  -0.7622038   0.26003986  0.88705638  1.02150162\n",
      "  -1.62737956  0.31546644]\n",
      " [ 1.74689128  0.20293539  1.18545102 -0.78661152 -1.64014857  1.43968576\n",
      "  -1.47174626 -0.1685831 ]\n",
      " [ 0.960206    0.99108796  0.64481971 -0.40844279 -2.64192827 -0.42721555\n",
      "   0.60573379  0.28876969]\n",
      " [ 0.51113758 -0.3518761   0.27904178 -2.22677184 -0.86634704  0.6372693\n",
      "  -0.67032307 -1.03908259]]\n"
     ]
    }
   ],
   "source": [
    "m = np.random.randn(4,8)\n",
    "print(m)"
   ]
  },
  {
   "cell_type": "code",
   "execution_count": 38,
   "metadata": {},
   "outputs": [
    {
     "data": {
      "text/plain": [
       "array([-0.08416408,  0.06348425,  0.00162882, -0.465869  ])"
      ]
     },
     "execution_count": 38,
     "metadata": {},
     "output_type": "execute_result"
    }
   ],
   "source": [
    "m.mean(axis=1)"
   ]
  },
  {
   "cell_type": "markdown",
   "metadata": {},
   "source": [
    "- Crea una función que reciba dos enteros n y m, genere dos matrices aleatorias (normales 0,1) de dimensiones nxm y mxn y haga el producto matricial de ambas para obtener una matriz nxn. Deberá devolver una tupla con las tres matrices."
   ]
  },
  {
   "cell_type": "code",
   "execution_count": 39,
   "metadata": {},
   "outputs": [],
   "source": [
    "def enteros(n,m):\n",
    "    a1 = np.random.normal(size=(n, m))\n",
    "    a2 = np.random.normal(size=(m, n))\n",
    "    return a1,a2,np.dot(a1,a2)\n",
    "      "
   ]
  },
  {
   "cell_type": "code",
   "execution_count": 40,
   "metadata": {},
   "outputs": [
    {
     "data": {
      "text/plain": [
       "(array([[ 1.0055924 ,  0.4616638 , -2.2865598 ],\n",
       "        [-0.48552775,  0.0854756 , -0.21142846]]),\n",
       " array([[-1.88489997,  1.50465811],\n",
       "        [ 0.60014763, -0.40851266],\n",
       "        [-0.99467141,  1.09682743]]),\n",
       " array([[ 0.65600102, -1.18348425],\n",
       "        [ 1.17677106, -0.99737167]]))"
      ]
     },
     "execution_count": 40,
     "metadata": {},
     "output_type": "execute_result"
    }
   ],
   "source": [
    "enteros(2,3)"
   ]
  },
  {
   "cell_type": "markdown",
   "metadata": {},
   "source": [
    "- Crea una función que reciba dos matrices y devuelva la secuencia ordenada de la unión de los elementos únicos de ambas."
   ]
  },
  {
   "cell_type": "code",
   "execution_count": 41,
   "metadata": {},
   "outputs": [],
   "source": [
    "a = np.random.randint(1, 10, (2,2))\n",
    "b = np.random.randint(1, 10, (8,10))"
   ]
  },
  {
   "cell_type": "code",
   "execution_count": 42,
   "metadata": {},
   "outputs": [
    {
     "data": {
      "text/plain": [
       "array([1, 3, 4, 8])"
      ]
     },
     "execution_count": 42,
     "metadata": {},
     "output_type": "execute_result"
    }
   ],
   "source": [
    "np.unique(a)"
   ]
  },
  {
   "cell_type": "code",
   "execution_count": 43,
   "metadata": {},
   "outputs": [
    {
     "data": {
      "text/plain": [
       "array([1, 2, 3, 4, 5, 6, 7, 8, 9])"
      ]
     },
     "execution_count": 43,
     "metadata": {},
     "output_type": "execute_result"
    }
   ],
   "source": [
    "np.unique(b)"
   ]
  },
  {
   "cell_type": "code",
   "execution_count": 44,
   "metadata": {},
   "outputs": [
    {
     "data": {
      "text/plain": [
       "array([1, 3, 4, 8])"
      ]
     },
     "execution_count": 44,
     "metadata": {},
     "output_type": "execute_result"
    }
   ],
   "source": [
    "uni = np.intersect1d(a,b)\n",
    "uni.sort()\n",
    "uni"
   ]
  },
  {
   "cell_type": "markdown",
   "metadata": {},
   "source": [
    "- Cree una matriz aleatoria normal de 5x10 y normalícela en media y varianza por filas y por columnas (restar la media y dividir entre la desviación típica)."
   ]
  },
  {
   "cell_type": "code",
   "execution_count": 45,
   "metadata": {},
   "outputs": [],
   "source": [
    "x = np.random.rand(5, 10)\n",
    "\n",
    "y = x  - x.mean(axis=0)\n",
    "y = y / x.std(axis=0)"
   ]
  },
  {
   "cell_type": "code",
   "execution_count": 46,
   "metadata": {},
   "outputs": [],
   "source": [
    "y = x  - x.mean(axis=1, keepdims=True)\n",
    "y = y / x.std(axis=1, keepdims=True)"
   ]
  },
  {
   "cell_type": "code",
   "execution_count": 47,
   "metadata": {},
   "outputs": [
    {
     "data": {
      "text/plain": [
       "3.441691376337985e-17"
      ]
     },
     "execution_count": 47,
     "metadata": {},
     "output_type": "execute_result"
    }
   ],
   "source": [
    "np.mean(y)"
   ]
  },
  {
   "cell_type": "code",
   "execution_count": 48,
   "metadata": {},
   "outputs": [
    {
     "data": {
      "text/plain": [
       "1.0"
      ]
     },
     "execution_count": 48,
     "metadata": {},
     "output_type": "execute_result"
    }
   ],
   "source": [
    "np.std(y)"
   ]
  }
 ],
 "metadata": {
  "kernelspec": {
   "display_name": "Python 3",
   "language": "python",
   "name": "python3"
  },
  "language_info": {
   "codemirror_mode": {
    "name": "ipython",
    "version": 3
   },
   "file_extension": ".py",
   "mimetype": "text/x-python",
   "name": "python",
   "nbconvert_exporter": "python",
   "pygments_lexer": "ipython3",
   "version": "3.7.4"
  }
 },
 "nbformat": 4,
 "nbformat_minor": 4
}
