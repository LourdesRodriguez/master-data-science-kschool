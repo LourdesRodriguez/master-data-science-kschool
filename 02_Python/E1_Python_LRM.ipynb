{
 "cells": [
  {
   "cell_type": "markdown",
   "metadata": {},
   "source": [
    "# TÍTULO 1"
   ]
  },
  {
   "cell_type": "markdown",
   "metadata": {},
   "source": [
    "## TÍTULO 2"
   ]
  },
  {
   "cell_type": "markdown",
   "metadata": {},
   "source": [
    "### Título 3"
   ]
  },
  {
   "cell_type": "markdown",
   "metadata": {},
   "source": [
    "*Texto en cursiva*"
   ]
  },
  {
   "cell_type": "markdown",
   "metadata": {},
   "source": [
    "**Texto en negrita**"
   ]
  },
  {
   "cell_type": "markdown",
   "metadata": {},
   "source": [
    "**_Texto en cursiva y negrita_**"
   ]
  },
  {
   "cell_type": "markdown",
   "metadata": {},
   "source": [
    "~~Texto tachado~~"
   ]
  },
  {
   "cell_type": "markdown",
   "metadata": {},
   "source": [
    "`citas en un texto`"
   ]
  },
  {
   "cell_type": "markdown",
   "metadata": {},
   "source": [
    "- Lista Título 1\n",
    "    - Lista Título 2\n",
    "            -Lista Título 3\n"
   ]
  },
  {
   "cell_type": "markdown",
   "metadata": {},
   "source": [
    "1. Lista Título 1\n",
    "    1. Lista Título 1.1\n",
    "        1. Lista Título 1.1.1\n",
    "        "
   ]
  },
  {
   "cell_type": "markdown",
   "metadata": {},
   "source": [
    "## 2. Python básico"
   ]
  },
  {
   "cell_type": "markdown",
   "metadata": {},
   "source": [
    "- *Escribe código y añade comentarios*"
   ]
  },
  {
   "cell_type": "code",
   "execution_count": 21,
   "metadata": {},
   "outputs": [
    {
     "data": {
      "text/plain": [
       "5"
      ]
     },
     "execution_count": 21,
     "metadata": {},
     "output_type": "execute_result"
    }
   ],
   "source": [
    "# Suma de dos números\n",
    "2+3"
   ]
  },
  {
   "cell_type": "markdown",
   "metadata": {},
   "source": [
    "- *Escribe una línea de código lárga y pártela en varias líneas*"
   ]
  },
  {
   "cell_type": "code",
   "execution_count": 22,
   "metadata": {},
   "outputs": [
    {
     "data": {
      "text/plain": [
       "8"
      ]
     },
     "execution_count": 22,
     "metadata": {},
     "output_type": "execute_result"
    }
   ],
   "source": [
    "2+3+4\\\n",
    "-5\\\n",
    "+4"
   ]
  },
  {
   "cell_type": "markdown",
   "metadata": {},
   "source": [
    "- *Busca la ayuda de la función map*"
   ]
  },
  {
   "cell_type": "code",
   "execution_count": 24,
   "metadata": {},
   "outputs": [
    {
     "data": {
      "text/plain": [
       "\u001b[0;31mInit signature:\u001b[0m \u001b[0mmap\u001b[0m\u001b[0;34m(\u001b[0m\u001b[0mself\u001b[0m\u001b[0;34m,\u001b[0m \u001b[0;34m/\u001b[0m\u001b[0;34m,\u001b[0m \u001b[0;34m*\u001b[0m\u001b[0margs\u001b[0m\u001b[0;34m,\u001b[0m \u001b[0;34m**\u001b[0m\u001b[0mkwargs\u001b[0m\u001b[0;34m)\u001b[0m\u001b[0;34m\u001b[0m\u001b[0;34m\u001b[0m\u001b[0m\n",
       "\u001b[0;31mDocstring:\u001b[0m     \n",
       "map(func, *iterables) --> map object\n",
       "\n",
       "Make an iterator that computes the function using arguments from\n",
       "each of the iterables.  Stops when the shortest iterable is exhausted.\n",
       "\u001b[0;31mType:\u001b[0m           type\n",
       "\u001b[0;31mSubclasses:\u001b[0m     \n"
      ]
     },
     "metadata": {},
     "output_type": "display_data"
    }
   ],
   "source": [
    "?map"
   ]
  },
  {
   "cell_type": "markdown",
   "metadata": {},
   "source": [
    "- *Asigna variables de tres formas diferentes*"
   ]
  },
  {
   "cell_type": "code",
   "execution_count": 7,
   "metadata": {},
   "outputs": [],
   "source": [
    "a= 1\n",
    "b,c = 3,5\n",
    "d= a"
   ]
  },
  {
   "cell_type": "code",
   "execution_count": 25,
   "metadata": {},
   "outputs": [
    {
     "name": "stdout",
     "output_type": "stream",
     "text": [
      "1 3 5 1\n"
     ]
    }
   ],
   "source": [
    "print (a,b,c,d)"
   ]
  },
  {
   "cell_type": "markdown",
   "metadata": {},
   "source": [
    "- *Define los 6 tipos de variables escalares en Python y comprueba su tipo*"
   ]
  },
  {
   "cell_type": "code",
   "execution_count": 13,
   "metadata": {},
   "outputs": [
    {
     "data": {
      "text/plain": [
       "str"
      ]
     },
     "execution_count": 13,
     "metadata": {},
     "output_type": "execute_result"
    }
   ],
   "source": [
    "cadena = 'Hola mundo'\n",
    "type(cadena)"
   ]
  },
  {
   "cell_type": "code",
   "execution_count": 2,
   "metadata": {},
   "outputs": [
    {
     "data": {
      "text/plain": [
       "int"
      ]
     },
     "execution_count": 2,
     "metadata": {},
     "output_type": "execute_result"
    }
   ],
   "source": [
    "numero = 2\n",
    "type(numero)"
   ]
  },
  {
   "cell_type": "code",
   "execution_count": 16,
   "metadata": {},
   "outputs": [
    {
     "data": {
      "text/plain": [
       "float"
      ]
     },
     "execution_count": 16,
     "metadata": {},
     "output_type": "execute_result"
    }
   ],
   "source": [
    "numero_2 = 2.3\n",
    "type(numero_2)"
   ]
  },
  {
   "cell_type": "code",
   "execution_count": 17,
   "metadata": {},
   "outputs": [
    {
     "data": {
      "text/plain": [
       "complex"
      ]
     },
     "execution_count": 17,
     "metadata": {},
     "output_type": "execute_result"
    }
   ],
   "source": [
    "complejo = 23j\n",
    "type(complejo)"
   ]
  },
  {
   "cell_type": "code",
   "execution_count": 18,
   "metadata": {},
   "outputs": [
    {
     "data": {
      "text/plain": [
       "bool"
      ]
     },
     "execution_count": 18,
     "metadata": {},
     "output_type": "execute_result"
    }
   ],
   "source": [
    "boleano = True\n",
    "type(boleano)"
   ]
  },
  {
   "cell_type": "code",
   "execution_count": 20,
   "metadata": {},
   "outputs": [
    {
     "data": {
      "text/plain": [
       "NoneType"
      ]
     },
     "execution_count": 20,
     "metadata": {},
     "output_type": "execute_result"
    }
   ],
   "source": [
    "nulo = None\n",
    "type(nulo)"
   ]
  },
  {
   "cell_type": "markdown",
   "metadata": {},
   "source": [
    "- *Transforma las variables entre ellas*"
   ]
  },
  {
   "cell_type": "code",
   "execution_count": 26,
   "metadata": {},
   "outputs": [
    {
     "data": {
      "text/plain": [
       "'2.3'"
      ]
     },
     "execution_count": 26,
     "metadata": {},
     "output_type": "execute_result"
    }
   ],
   "source": [
    "str(numero_2)"
   ]
  },
  {
   "cell_type": "code",
   "execution_count": 3,
   "metadata": {},
   "outputs": [
    {
     "data": {
      "text/plain": [
       "(2+0j)"
      ]
     },
     "execution_count": 3,
     "metadata": {},
     "output_type": "execute_result"
    }
   ],
   "source": [
    "complex(numero)"
   ]
  },
  {
   "cell_type": "code",
   "execution_count": 4,
   "metadata": {},
   "outputs": [
    {
     "ename": "NameError",
     "evalue": "name 'complejo' is not defined",
     "output_type": "error",
     "traceback": [
      "\u001b[0;31m---------------------------------------------------------------------------\u001b[0m",
      "\u001b[0;31mNameError\u001b[0m                                 Traceback (most recent call last)",
      "\u001b[0;32m<ipython-input-4-1d8d83925a72>\u001b[0m in \u001b[0;36m<module>\u001b[0;34m\u001b[0m\n\u001b[0;32m----> 1\u001b[0;31m \u001b[0mcomplejo\u001b[0m\u001b[0;34m(\u001b[0m\u001b[0mnumero_2\u001b[0m\u001b[0;34m)\u001b[0m\u001b[0;34m\u001b[0m\u001b[0;34m\u001b[0m\u001b[0m\n\u001b[0m",
      "\u001b[0;31mNameError\u001b[0m: name 'complejo' is not defined"
     ]
    }
   ],
   "source": [
    "complejo(numero_2)"
   ]
  },
  {
   "cell_type": "markdown",
   "metadata": {},
   "source": [
    "- *Realiza las 7 operaciones aritméticas básicas en Python*"
   ]
  },
  {
   "cell_type": "code",
   "execution_count": 28,
   "metadata": {},
   "outputs": [
    {
     "data": {
      "text/plain": [
       "4"
      ]
     },
     "execution_count": 28,
     "metadata": {},
     "output_type": "execute_result"
    }
   ],
   "source": [
    "# Suma\n",
    "2+2"
   ]
  },
  {
   "cell_type": "code",
   "execution_count": 29,
   "metadata": {},
   "outputs": [
    {
     "data": {
      "text/plain": [
       "0"
      ]
     },
     "execution_count": 29,
     "metadata": {},
     "output_type": "execute_result"
    }
   ],
   "source": [
    "# Resta\n",
    "2-2"
   ]
  },
  {
   "cell_type": "code",
   "execution_count": 30,
   "metadata": {},
   "outputs": [
    {
     "data": {
      "text/plain": [
       "2.0"
      ]
     },
     "execution_count": 30,
     "metadata": {},
     "output_type": "execute_result"
    }
   ],
   "source": [
    "# División\n",
    "8/4"
   ]
  },
  {
   "cell_type": "code",
   "execution_count": 31,
   "metadata": {},
   "outputs": [
    {
     "data": {
      "text/plain": [
       "38.699999999999996"
      ]
     },
     "execution_count": 31,
     "metadata": {},
     "output_type": "execute_result"
    }
   ],
   "source": [
    "# Multiplicación\n",
    "9*4.3"
   ]
  },
  {
   "cell_type": "code",
   "execution_count": 32,
   "metadata": {},
   "outputs": [
    {
     "data": {
      "text/plain": [
       "4"
      ]
     },
     "execution_count": 32,
     "metadata": {},
     "output_type": "execute_result"
    }
   ],
   "source": [
    "# Potencia\n",
    "2**2"
   ]
  },
  {
   "cell_type": "code",
   "execution_count": 33,
   "metadata": {},
   "outputs": [
    {
     "data": {
      "text/plain": [
       "1"
      ]
     },
     "execution_count": 33,
     "metadata": {},
     "output_type": "execute_result"
    }
   ],
   "source": [
    "# Resto\n",
    "4%3"
   ]
  },
  {
   "cell_type": "code",
   "execution_count": 34,
   "metadata": {},
   "outputs": [
    {
     "data": {
      "text/plain": [
       "2"
      ]
     },
     "execution_count": 34,
     "metadata": {},
     "output_type": "execute_result"
    }
   ],
   "source": [
    "# División entera\n",
    "5//2"
   ]
  },
  {
   "cell_type": "markdown",
   "metadata": {},
   "source": [
    "- *Define una expresión lógica con al menos 3 operadores relacionales*"
   ]
  },
  {
   "cell_type": "code",
   "execution_count": 36,
   "metadata": {},
   "outputs": [],
   "source": [
    "a = 3\n",
    "b = 3\n",
    "c = 4"
   ]
  },
  {
   "cell_type": "code",
   "execution_count": 37,
   "metadata": {},
   "outputs": [
    {
     "data": {
      "text/plain": [
       "True"
      ]
     },
     "execution_count": 37,
     "metadata": {},
     "output_type": "execute_result"
    }
   ],
   "source": [
    "a == b & b != c"
   ]
  },
  {
   "cell_type": "code",
   "execution_count": 38,
   "metadata": {},
   "outputs": [
    {
     "data": {
      "text/plain": [
       "False"
      ]
     },
     "execution_count": 38,
     "metadata": {},
     "output_type": "execute_result"
    }
   ],
   "source": [
    "a == b & b == c"
   ]
  },
  {
   "cell_type": "markdown",
   "metadata": {},
   "source": [
    "- *Escribe un código que solicite al usuario un número n y devuelva como resultado $n^{2}+n^\\frac{1}{2}$ sin usar el módulo math*"
   ]
  },
  {
   "cell_type": "code",
   "execution_count": 5,
   "metadata": {},
   "outputs": [
    {
     "name": "stdin",
     "output_type": "stream",
     "text": [
      "Dame un numero:  3\n"
     ]
    },
    {
     "name": "stdout",
     "output_type": "stream",
     "text": [
      "10.732050807568877\n"
     ]
    }
   ],
   "source": [
    "n = int(input('Dame un numero: '))\n",
    "print (n**2 + n**(1/2))"
   ]
  },
  {
   "cell_type": "markdown",
   "metadata": {},
   "source": [
    "- *Escribe un código que compruebe que el número introducido por el usuario es divisible por 13*"
   ]
  },
  {
   "cell_type": "code",
   "execution_count": 48,
   "metadata": {},
   "outputs": [
    {
     "name": "stdin",
     "output_type": "stream",
     "text": [
      "Dame un número:  39\n"
     ]
    },
    {
     "name": "stdout",
     "output_type": "stream",
     "text": [
      "True\n"
     ]
    }
   ],
   "source": [
    "numero = int(input('Dame un número: '))\n",
    "if numero % 13 == 0:\n",
    "    print (True)\n",
    "else:\n",
    "    print (False)"
   ]
  },
  {
   "cell_type": "markdown",
   "metadata": {},
   "source": [
    "## 3. Strings"
   ]
  },
  {
   "cell_type": "markdown",
   "metadata": {},
   "source": [
    "- *Define el siguiente string en una variable: `Python es un lenguaje muy útil para data science!`*"
   ]
  },
  {
   "cell_type": "code",
   "execution_count": 16,
   "metadata": {},
   "outputs": [],
   "source": [
    "mi_variable = 'Python es un lenguaje muy útil para data science'"
   ]
  },
  {
   "cell_type": "markdown",
   "metadata": {},
   "source": [
    "- *Extrae la primera palabra*"
   ]
  },
  {
   "cell_type": "code",
   "execution_count": 8,
   "metadata": {},
   "outputs": [
    {
     "data": {
      "text/plain": [
       "'Python'"
      ]
     },
     "execution_count": 8,
     "metadata": {},
     "output_type": "execute_result"
    }
   ],
   "source": [
    "mi_variable[0:6]"
   ]
  },
  {
   "cell_type": "code",
   "execution_count": 9,
   "metadata": {},
   "outputs": [
    {
     "data": {
      "text/plain": [
       "'Python'"
      ]
     },
     "execution_count": 9,
     "metadata": {},
     "output_type": "execute_result"
    }
   ],
   "source": [
    "mi_variable.split()[0]"
   ]
  },
  {
   "cell_type": "markdown",
   "metadata": {},
   "source": [
    "- *Extrae el último caracter*"
   ]
  },
  {
   "cell_type": "code",
   "execution_count": 54,
   "metadata": {},
   "outputs": [
    {
     "data": {
      "text/plain": [
       "'e'"
      ]
     },
     "execution_count": 54,
     "metadata": {},
     "output_type": "execute_result"
    }
   ],
   "source": [
    "mi_variable[-1]"
   ]
  },
  {
   "cell_type": "markdown",
   "metadata": {},
   "source": [
    "- *Calcula su longitud*"
   ]
  },
  {
   "cell_type": "code",
   "execution_count": 56,
   "metadata": {},
   "outputs": [
    {
     "data": {
      "text/plain": [
       "48"
      ]
     },
     "execution_count": 56,
     "metadata": {},
     "output_type": "execute_result"
    }
   ],
   "source": [
    "len(mi_variable)"
   ]
  },
  {
   "cell_type": "markdown",
   "metadata": {},
   "source": [
    "- *Cuenta las \"y\"*"
   ]
  },
  {
   "cell_type": "code",
   "execution_count": 12,
   "metadata": {},
   "outputs": [
    {
     "data": {
      "text/plain": [
       "2"
      ]
     },
     "execution_count": 12,
     "metadata": {},
     "output_type": "execute_result"
    }
   ],
   "source": [
    "mi_variable.count('y')"
   ]
  },
  {
   "cell_type": "markdown",
   "metadata": {},
   "source": [
    "- *Ponla en mayúsculas*"
   ]
  },
  {
   "cell_type": "code",
   "execution_count": 67,
   "metadata": {},
   "outputs": [
    {
     "data": {
      "text/plain": [
       "'PYTHON ES UN LENGUAJE MUY ÚTIL PARA DATA SCIENCE'"
      ]
     },
     "execution_count": 67,
     "metadata": {},
     "output_type": "execute_result"
    }
   ],
   "source": [
    "mi_variable.upper()"
   ]
  },
  {
   "cell_type": "markdown",
   "metadata": {},
   "source": [
    "- *Devuelve la frase del revés*"
   ]
  },
  {
   "cell_type": "code",
   "execution_count": 68,
   "metadata": {},
   "outputs": [
    {
     "data": {
      "text/plain": [
       "'ecneics atad arap litú yum ejaugnel nu se nohtyP'"
      ]
     },
     "execution_count": 68,
     "metadata": {},
     "output_type": "execute_result"
    }
   ],
   "source": [
    "mi_variable [::-1]"
   ]
  },
  {
   "cell_type": "markdown",
   "metadata": {},
   "source": [
    "- *Devuelve letras que ocupen una posición impar*"
   ]
  },
  {
   "cell_type": "code",
   "execution_count": 79,
   "metadata": {},
   "outputs": [
    {
     "name": "stdout",
     "output_type": "stream",
     "text": [
      "y\n",
      "h\n",
      "n\n",
      "e\n",
      " \n",
      "n\n",
      "l\n",
      "n\n",
      "u\n",
      "j\n",
      " \n",
      "u\n",
      " \n",
      "t\n",
      "l\n",
      "p\n",
      "r\n",
      " \n",
      "a\n",
      "a\n",
      "s\n",
      "i\n",
      "n\n",
      "e\n"
     ]
    }
   ],
   "source": [
    "for indice,valor in enumerate (mi_variable):\n",
    "    if indice % 2 != 0:\n",
    "        print (valor)"
   ]
  },
  {
   "cell_type": "markdown",
   "metadata": {},
   "source": [
    "- *Devuelve palabras que ocupen una posición par*"
   ]
  },
  {
   "cell_type": "code",
   "execution_count": 82,
   "metadata": {},
   "outputs": [
    {
     "name": "stdout",
     "output_type": "stream",
     "text": [
      "Python\n",
      "un\n",
      "muy\n",
      "para\n",
      "science\n"
     ]
    }
   ],
   "source": [
    "lista = mi_variable.split()\n",
    "\n",
    "for indice,valor in enumerate (lista):\n",
    "    if indice % 2 == 0:\n",
    "        print (valor)"
   ]
  },
  {
   "cell_type": "markdown",
   "metadata": {},
   "source": [
    "- *Reemplaza todas las vocales por números (a->1, e->2, ...)*"
   ]
  },
  {
   "cell_type": "code",
   "execution_count": 16,
   "metadata": {},
   "outputs": [],
   "source": [
    "nueva_variable = mi_variable.replace('a','1')"
   ]
  },
  {
   "cell_type": "code",
   "execution_count": 17,
   "metadata": {},
   "outputs": [],
   "source": [
    "nueva_variable = nueva_variable.replace('e','2')"
   ]
  },
  {
   "cell_type": "code",
   "execution_count": 18,
   "metadata": {},
   "outputs": [],
   "source": [
    "nueva_variable = nueva_variable.replace('i','3')"
   ]
  },
  {
   "cell_type": "code",
   "execution_count": 19,
   "metadata": {},
   "outputs": [],
   "source": [
    "nueva_variable = nueva_variable.replace('o','4')"
   ]
  },
  {
   "cell_type": "code",
   "execution_count": 20,
   "metadata": {},
   "outputs": [],
   "source": [
    "nueva_variable = nueva_variable.replace('u','5')"
   ]
  },
  {
   "cell_type": "code",
   "execution_count": 21,
   "metadata": {},
   "outputs": [
    {
     "data": {
      "text/plain": [
       "'Pyth4n 2s 5n l2ng51j2 m5y út3l p1r1 d1t1 sc32nc2'"
      ]
     },
     "execution_count": 21,
     "metadata": {},
     "output_type": "execute_result"
    }
   ],
   "source": [
    "nueva_variable"
   ]
  },
  {
   "cell_type": "markdown",
   "metadata": {},
   "source": [
    "- *Entre cada caracter pon el símbolo &*"
   ]
  },
  {
   "cell_type": "code",
   "execution_count": 17,
   "metadata": {},
   "outputs": [],
   "source": [
    "otra_variable = mi_variable.replace(' ','&') # Revisar ejercicio"
   ]
  },
  {
   "cell_type": "code",
   "execution_count": 18,
   "metadata": {},
   "outputs": [
    {
     "data": {
      "text/plain": [
       "'Python&es&un&lenguaje&muy&útil&para&data&science'"
      ]
     },
     "execution_count": 18,
     "metadata": {},
     "output_type": "execute_result"
    }
   ],
   "source": [
    "otra_variable"
   ]
  },
  {
   "cell_type": "markdown",
   "metadata": {},
   "source": [
    "- *Define una f-string que use 3 formatos diferentes*"
   ]
  },
  {
   "cell_type": "code",
   "execution_count": 25,
   "metadata": {},
   "outputs": [],
   "source": [
    "a = 7 #Revisar"
   ]
  },
  {
   "cell_type": "code",
   "execution_count": 26,
   "metadata": {},
   "outputs": [
    {
     "data": {
      "text/plain": [
       "'Los números que tengo son: entero 7, decimal 7.00 y exponencial 7.000000e+00'"
      ]
     },
     "execution_count": 26,
     "metadata": {},
     "output_type": "execute_result"
    }
   ],
   "source": [
    "f'Los números que tengo son: entero {a}, decimal {a:.2f} y exponencial {a:e}'"
   ]
  },
  {
   "cell_type": "markdown",
   "metadata": {},
   "source": [
    "## 4. Listas"
   ]
  },
  {
   "cell_type": "markdown",
   "metadata": {},
   "source": [
    "- *Construye una lista con 5 elementos de diferente tipo*"
   ]
  },
  {
   "cell_type": "code",
   "execution_count": 16,
   "metadata": {},
   "outputs": [],
   "source": [
    "mi_lista = ['cadena', 4.23, 2, True, [2,3,4]]"
   ]
  },
  {
   "cell_type": "markdown",
   "metadata": {},
   "source": [
    "- *Añade un elemento nuevo*"
   ]
  },
  {
   "cell_type": "code",
   "execution_count": 17,
   "metadata": {},
   "outputs": [],
   "source": [
    "mi_lista.append('hola')"
   ]
  },
  {
   "cell_type": "code",
   "execution_count": 18,
   "metadata": {},
   "outputs": [
    {
     "data": {
      "text/plain": [
       "['cadena', 4.23, 2, True, [2, 3, 4], 'hola']"
      ]
     },
     "execution_count": 18,
     "metadata": {},
     "output_type": "execute_result"
    }
   ],
   "source": [
    "mi_lista"
   ]
  },
  {
   "cell_type": "markdown",
   "metadata": {},
   "source": [
    "- *Perdón, mejor quítalo*"
   ]
  },
  {
   "cell_type": "code",
   "execution_count": 19,
   "metadata": {},
   "outputs": [],
   "source": [
    "mi_lista.remove('hola')"
   ]
  },
  {
   "cell_type": "code",
   "execution_count": 20,
   "metadata": {},
   "outputs": [
    {
     "data": {
      "text/plain": [
       "['cadena', 4.23, 2, True, [2, 3, 4]]"
      ]
     },
     "execution_count": 20,
     "metadata": {},
     "output_type": "execute_result"
    }
   ],
   "source": [
    "mi_lista"
   ]
  },
  {
   "cell_type": "markdown",
   "metadata": {},
   "source": [
    "- *Bueno vale, inserta un elemento nuevo pero entre la primera y segunda posición*"
   ]
  },
  {
   "cell_type": "code",
   "execution_count": 21,
   "metadata": {},
   "outputs": [],
   "source": [
    "mi_lista.insert(2,3.45)"
   ]
  },
  {
   "cell_type": "code",
   "execution_count": 22,
   "metadata": {},
   "outputs": [
    {
     "data": {
      "text/plain": [
       "['cadena', 4.23, 3.45, 2, True, [2, 3, 4]]"
      ]
     },
     "execution_count": 22,
     "metadata": {},
     "output_type": "execute_result"
    }
   ],
   "source": [
    "mi_lista"
   ]
  },
  {
   "cell_type": "markdown",
   "metadata": {},
   "source": [
    "- *Pensándolo mejor, elimínalo*"
   ]
  },
  {
   "cell_type": "code",
   "execution_count": 23,
   "metadata": {},
   "outputs": [],
   "source": [
    "mi_lista.remove(3.45)"
   ]
  },
  {
   "cell_type": "code",
   "execution_count": 24,
   "metadata": {},
   "outputs": [
    {
     "data": {
      "text/plain": [
       "['cadena', 4.23, 2, True, [2, 3, 4]]"
      ]
     },
     "execution_count": 24,
     "metadata": {},
     "output_type": "execute_result"
    }
   ],
   "source": [
    "mi_lista"
   ]
  },
  {
   "cell_type": "markdown",
   "metadata": {},
   "source": [
    "- *¿Cuántos elementos has puesto?*"
   ]
  },
  {
   "cell_type": "code",
   "execution_count": 25,
   "metadata": {},
   "outputs": [
    {
     "data": {
      "text/plain": [
       "5"
      ]
     },
     "execution_count": 25,
     "metadata": {},
     "output_type": "execute_result"
    }
   ],
   "source": [
    "len(mi_lista)"
   ]
  },
  {
   "cell_type": "markdown",
   "metadata": {},
   "source": [
    "- *Yo que tú invertiría el orden de los elementos, queda mejor*"
   ]
  },
  {
   "cell_type": "code",
   "execution_count": 27,
   "metadata": {},
   "outputs": [
    {
     "data": {
      "text/plain": [
       "[[2, 3, 4], True, 2, 4.23, 'cadena']"
      ]
     },
     "execution_count": 27,
     "metadata": {},
     "output_type": "execute_result"
    }
   ],
   "source": [
    "mi_lista[::-1]"
   ]
  },
  {
   "cell_type": "markdown",
   "metadata": {},
   "source": [
    "- *Asigna esa lista a otra variable, y cambia un elemento en alguna de ellas e imprime la otra*"
   ]
  },
  {
   "cell_type": "code",
   "execution_count": 31,
   "metadata": {},
   "outputs": [
    {
     "name": "stdout",
     "output_type": "stream",
     "text": [
      "['cadena', 4.23, 2, True, [2, 3, 4], 'nuevo']\n"
     ]
    }
   ],
   "source": [
    "nueva_lista = mi_lista\n",
    "nueva_lista.append('nuevo')\n",
    "print(mi_lista)"
   ]
  },
  {
   "cell_type": "markdown",
   "metadata": {},
   "source": [
    "- *Haz lo mismo que antes pero evitando que se modifiquen ambas listas*"
   ]
  },
  {
   "cell_type": "code",
   "execution_count": 33,
   "metadata": {},
   "outputs": [
    {
     "name": "stdout",
     "output_type": "stream",
     "text": [
      "['cadena', 4.23, 2, True, [2, 3, 4], 'nuevo']\n",
      "['cadena', 4.23, 2, True, [2, 3, 4], 'nuevo', 'otro elemento']\n"
     ]
    }
   ],
   "source": [
    "nueva_lista = mi_lista.copy()\n",
    "nueva_lista.append('otro elemento')\n",
    "print(mi_lista)\n",
    "print (nueva_lista)"
   ]
  },
  {
   "cell_type": "markdown",
   "metadata": {},
   "source": [
    "- *Crea una lista con los número divisibles por 11 y 19 hasta 200 y otra lista con los números divisbles por 27 hasta el 200*"
   ]
  },
  {
   "cell_type": "code",
   "execution_count": 35,
   "metadata": {},
   "outputs": [
    {
     "name": "stdout",
     "output_type": "stream",
     "text": [
      "[0, 11, 19, 22, 33, 38, 44, 55, 57, 66, 76, 77, 88, 95, 99, 110, 114, 121, 132, 133, 143, 152, 154, 165, 171, 176, 187, 190, 198]\n"
     ]
    }
   ],
   "source": [
    "n_divisibles = [i for i in range(201) if i%11==0 or i%19==0]\n",
    "print(n_divisibles)"
   ]
  },
  {
   "cell_type": "code",
   "execution_count": 37,
   "metadata": {},
   "outputs": [
    {
     "name": "stdout",
     "output_type": "stream",
     "text": [
      "[0, 27, 54, 81, 108, 135, 162, 189]\n"
     ]
    }
   ],
   "source": [
    "n_divisibles_27 = [i for i in range(201) if i%27==0]\n",
    "print(n_divisibles_27)"
   ]
  },
  {
   "cell_type": "markdown",
   "metadata": {},
   "source": [
    "- *Une ambas listas haciendo unpacking*"
   ]
  },
  {
   "cell_type": "code",
   "execution_count": 38,
   "metadata": {},
   "outputs": [],
   "source": [
    "lista_divisibles=[]"
   ]
  },
  {
   "cell_type": "code",
   "execution_count": 41,
   "metadata": {},
   "outputs": [
    {
     "name": "stdout",
     "output_type": "stream",
     "text": [
      "[0, 11, 19, 22, 33, 38, 44, 55, 57, 66, 76, 77, 88, 95, 99, 110, 114, 121, 132, 133, 143, 152, 154, 165, 171, 176, 187, 190, 198, 0, 27, 54, 81, 108, 135, 162, 189]\n"
     ]
    }
   ],
   "source": [
    "lista_divisibles=[*n_divisibles,*n_divisibles_27]\n",
    "print(lista_divisibles)"
   ]
  },
  {
   "cell_type": "markdown",
   "metadata": {},
   "source": [
    "- *No, mejor únelas con un método propio de las listas*"
   ]
  },
  {
   "cell_type": "code",
   "execution_count": 43,
   "metadata": {},
   "outputs": [
    {
     "name": "stdout",
     "output_type": "stream",
     "text": [
      "[0, 11, 19, 22, 33, 38, 44, 55, 57, 66, 76, 77, 88, 95, 99, 110, 114, 121, 132, 133, 143, 152, 154, 165, 171, 176, 187, 190, 198, 0, 27, 54, 81, 108, 135, 162, 189]\n"
     ]
    }
   ],
   "source": [
    "otra_lista_div=[]\n",
    "otra_lista_div = n_divisibles + n_divisibles_27\n",
    "print(otra_lista_div)"
   ]
  },
  {
   "cell_type": "markdown",
   "metadata": {},
   "source": [
    "## 5. Tuplas y Sets"
   ]
  },
  {
   "cell_type": "markdown",
   "metadata": {},
   "source": [
    "- *Define una tupla con 4 elementos*"
   ]
  },
  {
   "cell_type": "code",
   "execution_count": 45,
   "metadata": {},
   "outputs": [],
   "source": [
    "t1= ('elemento1', 2, 3, 4.34)"
   ]
  },
  {
   "cell_type": "markdown",
   "metadata": {},
   "source": [
    "- *¿Cuántos elementos te dije que pusieras?*"
   ]
  },
  {
   "cell_type": "code",
   "execution_count": 47,
   "metadata": {},
   "outputs": [
    {
     "data": {
      "text/plain": [
       "4"
      ]
     },
     "execution_count": 47,
     "metadata": {},
     "output_type": "execute_result"
    }
   ],
   "source": [
    "len(t1)"
   ]
  },
  {
   "cell_type": "markdown",
   "metadata": {},
   "source": [
    "- *Define una tupla que incluya un objeto mutable*"
   ]
  },
  {
   "cell_type": "code",
   "execution_count": 49,
   "metadata": {},
   "outputs": [],
   "source": [
    "t2 = ('otro', 'hola', [1,2,3,4])"
   ]
  },
  {
   "cell_type": "markdown",
   "metadata": {},
   "source": [
    "- *Modifica el objeto mutable anterior e imprime la tupla*"
   ]
  },
  {
   "cell_type": "code",
   "execution_count": 50,
   "metadata": {},
   "outputs": [
    {
     "name": "stdout",
     "output_type": "stream",
     "text": [
      "('otro', 'hola', [1, 4, 3, 4])\n"
     ]
    }
   ],
   "source": [
    "t2[2][1]=4\n",
    "print(t2)"
   ]
  },
  {
   "cell_type": "markdown",
   "metadata": {},
   "source": [
    "- *Define dos set con algunos elementos comunes*"
   ]
  },
  {
   "cell_type": "code",
   "execution_count": 3,
   "metadata": {},
   "outputs": [],
   "source": [
    "s1={1,2,3,4,5,6}\n",
    "s2={4,7,8,9,5,1}"
   ]
  },
  {
   "cell_type": "markdown",
   "metadata": {},
   "source": [
    "- *Calcula su unión e intersección*"
   ]
  },
  {
   "cell_type": "code",
   "execution_count": 4,
   "metadata": {},
   "outputs": [
    {
     "data": {
      "text/plain": [
       "{1, 2, 3, 4, 5, 6, 7, 8, 9}"
      ]
     },
     "execution_count": 4,
     "metadata": {},
     "output_type": "execute_result"
    }
   ],
   "source": [
    "s1.union(s2)"
   ]
  },
  {
   "cell_type": "code",
   "execution_count": 5,
   "metadata": {},
   "outputs": [
    {
     "data": {
      "text/plain": [
       "{1, 4, 5}"
      ]
     },
     "execution_count": 5,
     "metadata": {},
     "output_type": "execute_result"
    }
   ],
   "source": [
    "s1.intersection(s2)"
   ]
  },
  {
   "cell_type": "markdown",
   "metadata": {},
   "source": [
    "- *Calcula su diferencia simétrica*"
   ]
  },
  {
   "cell_type": "code",
   "execution_count": 6,
   "metadata": {},
   "outputs": [
    {
     "data": {
      "text/plain": [
       "{2, 3, 6}"
      ]
     },
     "execution_count": 6,
     "metadata": {},
     "output_type": "execute_result"
    }
   ],
   "source": [
    "s1.difference(s2)"
   ]
  },
  {
   "cell_type": "markdown",
   "metadata": {},
   "source": [
    "## 6. Diccionarios"
   ]
  },
  {
   "cell_type": "markdown",
   "metadata": {},
   "source": [
    "- *Define un diccionario con 5 elementos usando PEP8*"
   ]
  },
  {
   "cell_type": "code",
   "execution_count": 7,
   "metadata": {},
   "outputs": [
    {
     "data": {
      "text/plain": [
       "{'Enero': 23, 'Febrero': 4, 'Marzo': 15, 'Abril': 28, 'Mayo': 3}"
      ]
     },
     "execution_count": 7,
     "metadata": {},
     "output_type": "execute_result"
    }
   ],
   "source": [
    "d1 = {\n",
    "    'Enero':23,\n",
    "    'Febrero':4,\n",
    "    'Marzo':15,\n",
    "    'Abril':28,\n",
    "    'Mayo':3\n",
    "}\n",
    "d1"
   ]
  },
  {
   "cell_type": "markdown",
   "metadata": {},
   "source": [
    "- *Accede al elemento que quieras*"
   ]
  },
  {
   "cell_type": "code",
   "execution_count": 8,
   "metadata": {},
   "outputs": [
    {
     "data": {
      "text/plain": [
       "28"
      ]
     },
     "execution_count": 8,
     "metadata": {},
     "output_type": "execute_result"
    }
   ],
   "source": [
    "d1['Abril']"
   ]
  },
  {
   "cell_type": "markdown",
   "metadata": {},
   "source": [
    "- *Define dos listas, una de llaves y otra de valores y crea un diccionario a partir de ellas*"
   ]
  },
  {
   "cell_type": "code",
   "execution_count": 25,
   "metadata": {},
   "outputs": [],
   "source": [
    "clave = ['Lunes','Martes','Miercoles','Jueves','Viernes']\n",
    "valor = [2,5,7,1,8]"
   ]
  },
  {
   "cell_type": "code",
   "execution_count": 12,
   "metadata": {},
   "outputs": [
    {
     "data": {
      "text/plain": [
       "{'Lunes': 2, 'Martes': 5, 'Miercoles': 7, 'Jueves': 1, 'Viernes': 8}"
      ]
     },
     "execution_count": 12,
     "metadata": {},
     "output_type": "execute_result"
    }
   ],
   "source": [
    "d2 = {clave:valor for clave, valor in zip (clave,valor) } #zip junta llave y valor como una cremallera\n",
    "d2"
   ]
  },
  {
   "cell_type": "markdown",
   "metadata": {},
   "source": [
    "- *Ahora devuelve las llaves del diccioanrio anterior como una lista*"
   ]
  },
  {
   "cell_type": "code",
   "execution_count": 28,
   "metadata": {},
   "outputs": [
    {
     "data": {
      "text/plain": [
       "['Lunes', 'Martes', 'Miercoles', 'Jueves', 'Viernes']"
      ]
     },
     "execution_count": 28,
     "metadata": {},
     "output_type": "execute_result"
    }
   ],
   "source": [
    "clave_d2 = d2.keys()\n",
    "lista_cd2 = list(clave_d2)\n",
    "lista_cd2"
   ]
  },
  {
   "cell_type": "code",
   "execution_count": 29,
   "metadata": {},
   "outputs": [
    {
     "data": {
      "text/plain": [
       "[2, 5, 7, 1, 8]"
      ]
     },
     "execution_count": 29,
     "metadata": {},
     "output_type": "execute_result"
    }
   ],
   "source": [
    "valor_d2 = d2.values()\n",
    "lista_vd2 = list(valor_d2)\n",
    "lista_vd2"
   ]
  },
  {
   "cell_type": "markdown",
   "metadata": {},
   "source": [
    "- *Crea un único diccionario con los dos diccionares que has creado haciendo unpacking*"
   ]
  },
  {
   "cell_type": "code",
   "execution_count": 34,
   "metadata": {},
   "outputs": [
    {
     "data": {
      "text/plain": [
       "{'Enero': 23,\n",
       " 'Febrero': 4,\n",
       " 'Marzo': 15,\n",
       " 'Abril': 28,\n",
       " 'Mayo': 3,\n",
       " 'Lunes': 2,\n",
       " 'Martes': 5,\n",
       " 'Miercoles': 7,\n",
       " 'Jueves': 1,\n",
       " 'Viernes': 8}"
      ]
     },
     "execution_count": 34,
     "metadata": {},
     "output_type": "execute_result"
    }
   ],
   "source": [
    "dicc_unico = {**d1,**d2}\n",
    "dicc_unico"
   ]
  },
  {
   "cell_type": "markdown",
   "metadata": {},
   "source": [
    "- *Crea un único diccionario con los dos diccionarios que has creado con un método propio*"
   ]
  },
  {
   "cell_type": "code",
   "execution_count": 36,
   "metadata": {},
   "outputs": [
    {
     "data": {
      "text/plain": [
       "{'Enero': 23,\n",
       " 'Febrero': 4,\n",
       " 'Marzo': 15,\n",
       " 'Abril': 28,\n",
       " 'Mayo': 3,\n",
       " 'Lunes': 2,\n",
       " 'Martes': 5,\n",
       " 'Miercoles': 7,\n",
       " 'Jueves': 1,\n",
       " 'Viernes': 8}"
      ]
     },
     "execution_count": 36,
     "metadata": {},
     "output_type": "execute_result"
    }
   ],
   "source": [
    "d1.update(d2)\n",
    "d1"
   ]
  },
  {
   "cell_type": "markdown",
   "metadata": {},
   "source": [
    "- *Crea un diccionario donde las keys sean los números del 1 al 1000 y los valores sean un set con cifras que componen dicho número*"
   ]
  },
  {
   "cell_type": "code",
   "execution_count": 43,
   "metadata": {},
   "outputs": [
    {
     "data": {
      "text/plain": [
       "{0: {'0'},\n",
       " 1: {'1'},\n",
       " 2: {'2'},\n",
       " 3: {'3'},\n",
       " 4: {'4'},\n",
       " 5: {'5'},\n",
       " 6: {'6'},\n",
       " 7: {'7'},\n",
       " 8: {'8'},\n",
       " 9: {'9'},\n",
       " 10: {'0', '1'},\n",
       " 11: {'1'},\n",
       " 12: {'1', '2'},\n",
       " 13: {'1', '3'},\n",
       " 14: {'1', '4'},\n",
       " 15: {'1', '5'},\n",
       " 16: {'1', '6'},\n",
       " 17: {'1', '7'},\n",
       " 18: {'1', '8'},\n",
       " 19: {'1', '9'},\n",
       " 20: {'0', '2'},\n",
       " 21: {'1', '2'},\n",
       " 22: {'2'},\n",
       " 23: {'2', '3'},\n",
       " 24: {'2', '4'},\n",
       " 25: {'2', '5'},\n",
       " 26: {'2', '6'},\n",
       " 27: {'2', '7'},\n",
       " 28: {'2', '8'},\n",
       " 29: {'2', '9'},\n",
       " 30: {'0', '3'},\n",
       " 31: {'1', '3'},\n",
       " 32: {'2', '3'},\n",
       " 33: {'3'},\n",
       " 34: {'3', '4'},\n",
       " 35: {'3', '5'},\n",
       " 36: {'3', '6'},\n",
       " 37: {'3', '7'},\n",
       " 38: {'3', '8'},\n",
       " 39: {'3', '9'},\n",
       " 40: {'0', '4'},\n",
       " 41: {'1', '4'},\n",
       " 42: {'2', '4'},\n",
       " 43: {'3', '4'},\n",
       " 44: {'4'},\n",
       " 45: {'4', '5'},\n",
       " 46: {'4', '6'},\n",
       " 47: {'4', '7'},\n",
       " 48: {'4', '8'},\n",
       " 49: {'4', '9'},\n",
       " 50: {'0', '5'},\n",
       " 51: {'1', '5'},\n",
       " 52: {'2', '5'},\n",
       " 53: {'3', '5'},\n",
       " 54: {'4', '5'},\n",
       " 55: {'5'},\n",
       " 56: {'5', '6'},\n",
       " 57: {'5', '7'},\n",
       " 58: {'5', '8'},\n",
       " 59: {'5', '9'},\n",
       " 60: {'0', '6'},\n",
       " 61: {'1', '6'},\n",
       " 62: {'2', '6'},\n",
       " 63: {'3', '6'},\n",
       " 64: {'4', '6'},\n",
       " 65: {'5', '6'},\n",
       " 66: {'6'},\n",
       " 67: {'6', '7'},\n",
       " 68: {'6', '8'},\n",
       " 69: {'6', '9'},\n",
       " 70: {'0', '7'},\n",
       " 71: {'1', '7'},\n",
       " 72: {'2', '7'},\n",
       " 73: {'3', '7'},\n",
       " 74: {'4', '7'},\n",
       " 75: {'5', '7'},\n",
       " 76: {'6', '7'},\n",
       " 77: {'7'},\n",
       " 78: {'7', '8'},\n",
       " 79: {'7', '9'},\n",
       " 80: {'0', '8'},\n",
       " 81: {'1', '8'},\n",
       " 82: {'2', '8'},\n",
       " 83: {'3', '8'},\n",
       " 84: {'4', '8'},\n",
       " 85: {'5', '8'},\n",
       " 86: {'6', '8'},\n",
       " 87: {'7', '8'},\n",
       " 88: {'8'},\n",
       " 89: {'8', '9'},\n",
       " 90: {'0', '9'},\n",
       " 91: {'1', '9'},\n",
       " 92: {'2', '9'},\n",
       " 93: {'3', '9'},\n",
       " 94: {'4', '9'},\n",
       " 95: {'5', '9'},\n",
       " 96: {'6', '9'},\n",
       " 97: {'7', '9'},\n",
       " 98: {'8', '9'},\n",
       " 99: {'9'},\n",
       " 100: {'0', '1'},\n",
       " 101: {'0', '1'},\n",
       " 102: {'0', '1', '2'},\n",
       " 103: {'0', '1', '3'},\n",
       " 104: {'0', '1', '4'},\n",
       " 105: {'0', '1', '5'},\n",
       " 106: {'0', '1', '6'},\n",
       " 107: {'0', '1', '7'},\n",
       " 108: {'0', '1', '8'},\n",
       " 109: {'0', '1', '9'},\n",
       " 110: {'0', '1'},\n",
       " 111: {'1'},\n",
       " 112: {'1', '2'},\n",
       " 113: {'1', '3'},\n",
       " 114: {'1', '4'},\n",
       " 115: {'1', '5'},\n",
       " 116: {'1', '6'},\n",
       " 117: {'1', '7'},\n",
       " 118: {'1', '8'},\n",
       " 119: {'1', '9'},\n",
       " 120: {'0', '1', '2'},\n",
       " 121: {'1', '2'},\n",
       " 122: {'1', '2'},\n",
       " 123: {'1', '2', '3'},\n",
       " 124: {'1', '2', '4'},\n",
       " 125: {'1', '2', '5'},\n",
       " 126: {'1', '2', '6'},\n",
       " 127: {'1', '2', '7'},\n",
       " 128: {'1', '2', '8'},\n",
       " 129: {'1', '2', '9'},\n",
       " 130: {'0', '1', '3'},\n",
       " 131: {'1', '3'},\n",
       " 132: {'1', '2', '3'},\n",
       " 133: {'1', '3'},\n",
       " 134: {'1', '3', '4'},\n",
       " 135: {'1', '3', '5'},\n",
       " 136: {'1', '3', '6'},\n",
       " 137: {'1', '3', '7'},\n",
       " 138: {'1', '3', '8'},\n",
       " 139: {'1', '3', '9'},\n",
       " 140: {'0', '1', '4'},\n",
       " 141: {'1', '4'},\n",
       " 142: {'1', '2', '4'},\n",
       " 143: {'1', '3', '4'},\n",
       " 144: {'1', '4'},\n",
       " 145: {'1', '4', '5'},\n",
       " 146: {'1', '4', '6'},\n",
       " 147: {'1', '4', '7'},\n",
       " 148: {'1', '4', '8'},\n",
       " 149: {'1', '4', '9'},\n",
       " 150: {'0', '1', '5'},\n",
       " 151: {'1', '5'},\n",
       " 152: {'1', '2', '5'},\n",
       " 153: {'1', '3', '5'},\n",
       " 154: {'1', '4', '5'},\n",
       " 155: {'1', '5'},\n",
       " 156: {'1', '5', '6'},\n",
       " 157: {'1', '5', '7'},\n",
       " 158: {'1', '5', '8'},\n",
       " 159: {'1', '5', '9'},\n",
       " 160: {'0', '1', '6'},\n",
       " 161: {'1', '6'},\n",
       " 162: {'1', '2', '6'},\n",
       " 163: {'1', '3', '6'},\n",
       " 164: {'1', '4', '6'},\n",
       " 165: {'1', '5', '6'},\n",
       " 166: {'1', '6'},\n",
       " 167: {'1', '6', '7'},\n",
       " 168: {'1', '6', '8'},\n",
       " 169: {'1', '6', '9'},\n",
       " 170: {'0', '1', '7'},\n",
       " 171: {'1', '7'},\n",
       " 172: {'1', '2', '7'},\n",
       " 173: {'1', '3', '7'},\n",
       " 174: {'1', '4', '7'},\n",
       " 175: {'1', '5', '7'},\n",
       " 176: {'1', '6', '7'},\n",
       " 177: {'1', '7'},\n",
       " 178: {'1', '7', '8'},\n",
       " 179: {'1', '7', '9'},\n",
       " 180: {'0', '1', '8'},\n",
       " 181: {'1', '8'},\n",
       " 182: {'1', '2', '8'},\n",
       " 183: {'1', '3', '8'},\n",
       " 184: {'1', '4', '8'},\n",
       " 185: {'1', '5', '8'},\n",
       " 186: {'1', '6', '8'},\n",
       " 187: {'1', '7', '8'},\n",
       " 188: {'1', '8'},\n",
       " 189: {'1', '8', '9'},\n",
       " 190: {'0', '1', '9'},\n",
       " 191: {'1', '9'},\n",
       " 192: {'1', '2', '9'},\n",
       " 193: {'1', '3', '9'},\n",
       " 194: {'1', '4', '9'},\n",
       " 195: {'1', '5', '9'},\n",
       " 196: {'1', '6', '9'},\n",
       " 197: {'1', '7', '9'},\n",
       " 198: {'1', '8', '9'},\n",
       " 199: {'1', '9'},\n",
       " 200: {'0', '2'},\n",
       " 201: {'0', '1', '2'},\n",
       " 202: {'0', '2'},\n",
       " 203: {'0', '2', '3'},\n",
       " 204: {'0', '2', '4'},\n",
       " 205: {'0', '2', '5'},\n",
       " 206: {'0', '2', '6'},\n",
       " 207: {'0', '2', '7'},\n",
       " 208: {'0', '2', '8'},\n",
       " 209: {'0', '2', '9'},\n",
       " 210: {'0', '1', '2'},\n",
       " 211: {'1', '2'},\n",
       " 212: {'1', '2'},\n",
       " 213: {'1', '2', '3'},\n",
       " 214: {'1', '2', '4'},\n",
       " 215: {'1', '2', '5'},\n",
       " 216: {'1', '2', '6'},\n",
       " 217: {'1', '2', '7'},\n",
       " 218: {'1', '2', '8'},\n",
       " 219: {'1', '2', '9'},\n",
       " 220: {'0', '2'},\n",
       " 221: {'1', '2'},\n",
       " 222: {'2'},\n",
       " 223: {'2', '3'},\n",
       " 224: {'2', '4'},\n",
       " 225: {'2', '5'},\n",
       " 226: {'2', '6'},\n",
       " 227: {'2', '7'},\n",
       " 228: {'2', '8'},\n",
       " 229: {'2', '9'},\n",
       " 230: {'0', '2', '3'},\n",
       " 231: {'1', '2', '3'},\n",
       " 232: {'2', '3'},\n",
       " 233: {'2', '3'},\n",
       " 234: {'2', '3', '4'},\n",
       " 235: {'2', '3', '5'},\n",
       " 236: {'2', '3', '6'},\n",
       " 237: {'2', '3', '7'},\n",
       " 238: {'2', '3', '8'},\n",
       " 239: {'2', '3', '9'},\n",
       " 240: {'0', '2', '4'},\n",
       " 241: {'1', '2', '4'},\n",
       " 242: {'2', '4'},\n",
       " 243: {'2', '3', '4'},\n",
       " 244: {'2', '4'},\n",
       " 245: {'2', '4', '5'},\n",
       " 246: {'2', '4', '6'},\n",
       " 247: {'2', '4', '7'},\n",
       " 248: {'2', '4', '8'},\n",
       " 249: {'2', '4', '9'},\n",
       " 250: {'0', '2', '5'},\n",
       " 251: {'1', '2', '5'},\n",
       " 252: {'2', '5'},\n",
       " 253: {'2', '3', '5'},\n",
       " 254: {'2', '4', '5'},\n",
       " 255: {'2', '5'},\n",
       " 256: {'2', '5', '6'},\n",
       " 257: {'2', '5', '7'},\n",
       " 258: {'2', '5', '8'},\n",
       " 259: {'2', '5', '9'},\n",
       " 260: {'0', '2', '6'},\n",
       " 261: {'1', '2', '6'},\n",
       " 262: {'2', '6'},\n",
       " 263: {'2', '3', '6'},\n",
       " 264: {'2', '4', '6'},\n",
       " 265: {'2', '5', '6'},\n",
       " 266: {'2', '6'},\n",
       " 267: {'2', '6', '7'},\n",
       " 268: {'2', '6', '8'},\n",
       " 269: {'2', '6', '9'},\n",
       " 270: {'0', '2', '7'},\n",
       " 271: {'1', '2', '7'},\n",
       " 272: {'2', '7'},\n",
       " 273: {'2', '3', '7'},\n",
       " 274: {'2', '4', '7'},\n",
       " 275: {'2', '5', '7'},\n",
       " 276: {'2', '6', '7'},\n",
       " 277: {'2', '7'},\n",
       " 278: {'2', '7', '8'},\n",
       " 279: {'2', '7', '9'},\n",
       " 280: {'0', '2', '8'},\n",
       " 281: {'1', '2', '8'},\n",
       " 282: {'2', '8'},\n",
       " 283: {'2', '3', '8'},\n",
       " 284: {'2', '4', '8'},\n",
       " 285: {'2', '5', '8'},\n",
       " 286: {'2', '6', '8'},\n",
       " 287: {'2', '7', '8'},\n",
       " 288: {'2', '8'},\n",
       " 289: {'2', '8', '9'},\n",
       " 290: {'0', '2', '9'},\n",
       " 291: {'1', '2', '9'},\n",
       " 292: {'2', '9'},\n",
       " 293: {'2', '3', '9'},\n",
       " 294: {'2', '4', '9'},\n",
       " 295: {'2', '5', '9'},\n",
       " 296: {'2', '6', '9'},\n",
       " 297: {'2', '7', '9'},\n",
       " 298: {'2', '8', '9'},\n",
       " 299: {'2', '9'},\n",
       " 300: {'0', '3'},\n",
       " 301: {'0', '1', '3'},\n",
       " 302: {'0', '2', '3'},\n",
       " 303: {'0', '3'},\n",
       " 304: {'0', '3', '4'},\n",
       " 305: {'0', '3', '5'},\n",
       " 306: {'0', '3', '6'},\n",
       " 307: {'0', '3', '7'},\n",
       " 308: {'0', '3', '8'},\n",
       " 309: {'0', '3', '9'},\n",
       " 310: {'0', '1', '3'},\n",
       " 311: {'1', '3'},\n",
       " 312: {'1', '2', '3'},\n",
       " 313: {'1', '3'},\n",
       " 314: {'1', '3', '4'},\n",
       " 315: {'1', '3', '5'},\n",
       " 316: {'1', '3', '6'},\n",
       " 317: {'1', '3', '7'},\n",
       " 318: {'1', '3', '8'},\n",
       " 319: {'1', '3', '9'},\n",
       " 320: {'0', '2', '3'},\n",
       " 321: {'1', '2', '3'},\n",
       " 322: {'2', '3'},\n",
       " 323: {'2', '3'},\n",
       " 324: {'2', '3', '4'},\n",
       " 325: {'2', '3', '5'},\n",
       " 326: {'2', '3', '6'},\n",
       " 327: {'2', '3', '7'},\n",
       " 328: {'2', '3', '8'},\n",
       " 329: {'2', '3', '9'},\n",
       " 330: {'0', '3'},\n",
       " 331: {'1', '3'},\n",
       " 332: {'2', '3'},\n",
       " 333: {'3'},\n",
       " 334: {'3', '4'},\n",
       " 335: {'3', '5'},\n",
       " 336: {'3', '6'},\n",
       " 337: {'3', '7'},\n",
       " 338: {'3', '8'},\n",
       " 339: {'3', '9'},\n",
       " 340: {'0', '3', '4'},\n",
       " 341: {'1', '3', '4'},\n",
       " 342: {'2', '3', '4'},\n",
       " 343: {'3', '4'},\n",
       " 344: {'3', '4'},\n",
       " 345: {'3', '4', '5'},\n",
       " 346: {'3', '4', '6'},\n",
       " 347: {'3', '4', '7'},\n",
       " 348: {'3', '4', '8'},\n",
       " 349: {'3', '4', '9'},\n",
       " 350: {'0', '3', '5'},\n",
       " 351: {'1', '3', '5'},\n",
       " 352: {'2', '3', '5'},\n",
       " 353: {'3', '5'},\n",
       " 354: {'3', '4', '5'},\n",
       " 355: {'3', '5'},\n",
       " 356: {'3', '5', '6'},\n",
       " 357: {'3', '5', '7'},\n",
       " 358: {'3', '5', '8'},\n",
       " 359: {'3', '5', '9'},\n",
       " 360: {'0', '3', '6'},\n",
       " 361: {'1', '3', '6'},\n",
       " 362: {'2', '3', '6'},\n",
       " 363: {'3', '6'},\n",
       " 364: {'3', '4', '6'},\n",
       " 365: {'3', '5', '6'},\n",
       " 366: {'3', '6'},\n",
       " 367: {'3', '6', '7'},\n",
       " 368: {'3', '6', '8'},\n",
       " 369: {'3', '6', '9'},\n",
       " 370: {'0', '3', '7'},\n",
       " 371: {'1', '3', '7'},\n",
       " 372: {'2', '3', '7'},\n",
       " 373: {'3', '7'},\n",
       " 374: {'3', '4', '7'},\n",
       " 375: {'3', '5', '7'},\n",
       " 376: {'3', '6', '7'},\n",
       " 377: {'3', '7'},\n",
       " 378: {'3', '7', '8'},\n",
       " 379: {'3', '7', '9'},\n",
       " 380: {'0', '3', '8'},\n",
       " 381: {'1', '3', '8'},\n",
       " 382: {'2', '3', '8'},\n",
       " 383: {'3', '8'},\n",
       " 384: {'3', '4', '8'},\n",
       " 385: {'3', '5', '8'},\n",
       " 386: {'3', '6', '8'},\n",
       " 387: {'3', '7', '8'},\n",
       " 388: {'3', '8'},\n",
       " 389: {'3', '8', '9'},\n",
       " 390: {'0', '3', '9'},\n",
       " 391: {'1', '3', '9'},\n",
       " 392: {'2', '3', '9'},\n",
       " 393: {'3', '9'},\n",
       " 394: {'3', '4', '9'},\n",
       " 395: {'3', '5', '9'},\n",
       " 396: {'3', '6', '9'},\n",
       " 397: {'3', '7', '9'},\n",
       " 398: {'3', '8', '9'},\n",
       " 399: {'3', '9'},\n",
       " 400: {'0', '4'},\n",
       " 401: {'0', '1', '4'},\n",
       " 402: {'0', '2', '4'},\n",
       " 403: {'0', '3', '4'},\n",
       " 404: {'0', '4'},\n",
       " 405: {'0', '4', '5'},\n",
       " 406: {'0', '4', '6'},\n",
       " 407: {'0', '4', '7'},\n",
       " 408: {'0', '4', '8'},\n",
       " 409: {'0', '4', '9'},\n",
       " 410: {'0', '1', '4'},\n",
       " 411: {'1', '4'},\n",
       " 412: {'1', '2', '4'},\n",
       " 413: {'1', '3', '4'},\n",
       " 414: {'1', '4'},\n",
       " 415: {'1', '4', '5'},\n",
       " 416: {'1', '4', '6'},\n",
       " 417: {'1', '4', '7'},\n",
       " 418: {'1', '4', '8'},\n",
       " 419: {'1', '4', '9'},\n",
       " 420: {'0', '2', '4'},\n",
       " 421: {'1', '2', '4'},\n",
       " 422: {'2', '4'},\n",
       " 423: {'2', '3', '4'},\n",
       " 424: {'2', '4'},\n",
       " 425: {'2', '4', '5'},\n",
       " 426: {'2', '4', '6'},\n",
       " 427: {'2', '4', '7'},\n",
       " 428: {'2', '4', '8'},\n",
       " 429: {'2', '4', '9'},\n",
       " 430: {'0', '3', '4'},\n",
       " 431: {'1', '3', '4'},\n",
       " 432: {'2', '3', '4'},\n",
       " 433: {'3', '4'},\n",
       " 434: {'3', '4'},\n",
       " 435: {'3', '4', '5'},\n",
       " 436: {'3', '4', '6'},\n",
       " 437: {'3', '4', '7'},\n",
       " 438: {'3', '4', '8'},\n",
       " 439: {'3', '4', '9'},\n",
       " 440: {'0', '4'},\n",
       " 441: {'1', '4'},\n",
       " 442: {'2', '4'},\n",
       " 443: {'3', '4'},\n",
       " 444: {'4'},\n",
       " 445: {'4', '5'},\n",
       " 446: {'4', '6'},\n",
       " 447: {'4', '7'},\n",
       " 448: {'4', '8'},\n",
       " 449: {'4', '9'},\n",
       " 450: {'0', '4', '5'},\n",
       " 451: {'1', '4', '5'},\n",
       " 452: {'2', '4', '5'},\n",
       " 453: {'3', '4', '5'},\n",
       " 454: {'4', '5'},\n",
       " 455: {'4', '5'},\n",
       " 456: {'4', '5', '6'},\n",
       " 457: {'4', '5', '7'},\n",
       " 458: {'4', '5', '8'},\n",
       " 459: {'4', '5', '9'},\n",
       " 460: {'0', '4', '6'},\n",
       " 461: {'1', '4', '6'},\n",
       " 462: {'2', '4', '6'},\n",
       " 463: {'3', '4', '6'},\n",
       " 464: {'4', '6'},\n",
       " 465: {'4', '5', '6'},\n",
       " 466: {'4', '6'},\n",
       " 467: {'4', '6', '7'},\n",
       " 468: {'4', '6', '8'},\n",
       " 469: {'4', '6', '9'},\n",
       " 470: {'0', '4', '7'},\n",
       " 471: {'1', '4', '7'},\n",
       " 472: {'2', '4', '7'},\n",
       " 473: {'3', '4', '7'},\n",
       " 474: {'4', '7'},\n",
       " 475: {'4', '5', '7'},\n",
       " 476: {'4', '6', '7'},\n",
       " 477: {'4', '7'},\n",
       " 478: {'4', '7', '8'},\n",
       " 479: {'4', '7', '9'},\n",
       " 480: {'0', '4', '8'},\n",
       " 481: {'1', '4', '8'},\n",
       " 482: {'2', '4', '8'},\n",
       " 483: {'3', '4', '8'},\n",
       " 484: {'4', '8'},\n",
       " 485: {'4', '5', '8'},\n",
       " 486: {'4', '6', '8'},\n",
       " 487: {'4', '7', '8'},\n",
       " 488: {'4', '8'},\n",
       " 489: {'4', '8', '9'},\n",
       " 490: {'0', '4', '9'},\n",
       " 491: {'1', '4', '9'},\n",
       " 492: {'2', '4', '9'},\n",
       " 493: {'3', '4', '9'},\n",
       " 494: {'4', '9'},\n",
       " 495: {'4', '5', '9'},\n",
       " 496: {'4', '6', '9'},\n",
       " 497: {'4', '7', '9'},\n",
       " 498: {'4', '8', '9'},\n",
       " 499: {'4', '9'},\n",
       " 500: {'0', '5'},\n",
       " 501: {'0', '1', '5'},\n",
       " 502: {'0', '2', '5'},\n",
       " 503: {'0', '3', '5'},\n",
       " 504: {'0', '4', '5'},\n",
       " 505: {'0', '5'},\n",
       " 506: {'0', '5', '6'},\n",
       " 507: {'0', '5', '7'},\n",
       " 508: {'0', '5', '8'},\n",
       " 509: {'0', '5', '9'},\n",
       " 510: {'0', '1', '5'},\n",
       " 511: {'1', '5'},\n",
       " 512: {'1', '2', '5'},\n",
       " 513: {'1', '3', '5'},\n",
       " 514: {'1', '4', '5'},\n",
       " 515: {'1', '5'},\n",
       " 516: {'1', '5', '6'},\n",
       " 517: {'1', '5', '7'},\n",
       " 518: {'1', '5', '8'},\n",
       " 519: {'1', '5', '9'},\n",
       " 520: {'0', '2', '5'},\n",
       " 521: {'1', '2', '5'},\n",
       " 522: {'2', '5'},\n",
       " 523: {'2', '3', '5'},\n",
       " 524: {'2', '4', '5'},\n",
       " 525: {'2', '5'},\n",
       " 526: {'2', '5', '6'},\n",
       " 527: {'2', '5', '7'},\n",
       " 528: {'2', '5', '8'},\n",
       " 529: {'2', '5', '9'},\n",
       " 530: {'0', '3', '5'},\n",
       " 531: {'1', '3', '5'},\n",
       " 532: {'2', '3', '5'},\n",
       " 533: {'3', '5'},\n",
       " 534: {'3', '4', '5'},\n",
       " 535: {'3', '5'},\n",
       " 536: {'3', '5', '6'},\n",
       " 537: {'3', '5', '7'},\n",
       " 538: {'3', '5', '8'},\n",
       " 539: {'3', '5', '9'},\n",
       " 540: {'0', '4', '5'},\n",
       " 541: {'1', '4', '5'},\n",
       " 542: {'2', '4', '5'},\n",
       " 543: {'3', '4', '5'},\n",
       " 544: {'4', '5'},\n",
       " 545: {'4', '5'},\n",
       " 546: {'4', '5', '6'},\n",
       " 547: {'4', '5', '7'},\n",
       " 548: {'4', '5', '8'},\n",
       " 549: {'4', '5', '9'},\n",
       " 550: {'0', '5'},\n",
       " 551: {'1', '5'},\n",
       " 552: {'2', '5'},\n",
       " 553: {'3', '5'},\n",
       " 554: {'4', '5'},\n",
       " 555: {'5'},\n",
       " 556: {'5', '6'},\n",
       " 557: {'5', '7'},\n",
       " 558: {'5', '8'},\n",
       " 559: {'5', '9'},\n",
       " 560: {'0', '5', '6'},\n",
       " 561: {'1', '5', '6'},\n",
       " 562: {'2', '5', '6'},\n",
       " 563: {'3', '5', '6'},\n",
       " 564: {'4', '5', '6'},\n",
       " 565: {'5', '6'},\n",
       " 566: {'5', '6'},\n",
       " 567: {'5', '6', '7'},\n",
       " 568: {'5', '6', '8'},\n",
       " 569: {'5', '6', '9'},\n",
       " 570: {'0', '5', '7'},\n",
       " 571: {'1', '5', '7'},\n",
       " 572: {'2', '5', '7'},\n",
       " 573: {'3', '5', '7'},\n",
       " 574: {'4', '5', '7'},\n",
       " 575: {'5', '7'},\n",
       " 576: {'5', '6', '7'},\n",
       " 577: {'5', '7'},\n",
       " 578: {'5', '7', '8'},\n",
       " 579: {'5', '7', '9'},\n",
       " 580: {'0', '5', '8'},\n",
       " 581: {'1', '5', '8'},\n",
       " 582: {'2', '5', '8'},\n",
       " 583: {'3', '5', '8'},\n",
       " 584: {'4', '5', '8'},\n",
       " 585: {'5', '8'},\n",
       " 586: {'5', '6', '8'},\n",
       " 587: {'5', '7', '8'},\n",
       " 588: {'5', '8'},\n",
       " 589: {'5', '8', '9'},\n",
       " 590: {'0', '5', '9'},\n",
       " 591: {'1', '5', '9'},\n",
       " 592: {'2', '5', '9'},\n",
       " 593: {'3', '5', '9'},\n",
       " 594: {'4', '5', '9'},\n",
       " 595: {'5', '9'},\n",
       " 596: {'5', '6', '9'},\n",
       " 597: {'5', '7', '9'},\n",
       " 598: {'5', '8', '9'},\n",
       " 599: {'5', '9'},\n",
       " 600: {'0', '6'},\n",
       " 601: {'0', '1', '6'},\n",
       " 602: {'0', '2', '6'},\n",
       " 603: {'0', '3', '6'},\n",
       " 604: {'0', '4', '6'},\n",
       " 605: {'0', '5', '6'},\n",
       " 606: {'0', '6'},\n",
       " 607: {'0', '6', '7'},\n",
       " 608: {'0', '6', '8'},\n",
       " 609: {'0', '6', '9'},\n",
       " 610: {'0', '1', '6'},\n",
       " 611: {'1', '6'},\n",
       " 612: {'1', '2', '6'},\n",
       " 613: {'1', '3', '6'},\n",
       " 614: {'1', '4', '6'},\n",
       " 615: {'1', '5', '6'},\n",
       " 616: {'1', '6'},\n",
       " 617: {'1', '6', '7'},\n",
       " 618: {'1', '6', '8'},\n",
       " 619: {'1', '6', '9'},\n",
       " 620: {'0', '2', '6'},\n",
       " 621: {'1', '2', '6'},\n",
       " 622: {'2', '6'},\n",
       " 623: {'2', '3', '6'},\n",
       " 624: {'2', '4', '6'},\n",
       " 625: {'2', '5', '6'},\n",
       " 626: {'2', '6'},\n",
       " 627: {'2', '6', '7'},\n",
       " 628: {'2', '6', '8'},\n",
       " 629: {'2', '6', '9'},\n",
       " 630: {'0', '3', '6'},\n",
       " 631: {'1', '3', '6'},\n",
       " 632: {'2', '3', '6'},\n",
       " 633: {'3', '6'},\n",
       " 634: {'3', '4', '6'},\n",
       " 635: {'3', '5', '6'},\n",
       " 636: {'3', '6'},\n",
       " 637: {'3', '6', '7'},\n",
       " 638: {'3', '6', '8'},\n",
       " 639: {'3', '6', '9'},\n",
       " 640: {'0', '4', '6'},\n",
       " 641: {'1', '4', '6'},\n",
       " 642: {'2', '4', '6'},\n",
       " 643: {'3', '4', '6'},\n",
       " 644: {'4', '6'},\n",
       " 645: {'4', '5', '6'},\n",
       " 646: {'4', '6'},\n",
       " 647: {'4', '6', '7'},\n",
       " 648: {'4', '6', '8'},\n",
       " 649: {'4', '6', '9'},\n",
       " 650: {'0', '5', '6'},\n",
       " 651: {'1', '5', '6'},\n",
       " 652: {'2', '5', '6'},\n",
       " 653: {'3', '5', '6'},\n",
       " 654: {'4', '5', '6'},\n",
       " 655: {'5', '6'},\n",
       " 656: {'5', '6'},\n",
       " 657: {'5', '6', '7'},\n",
       " 658: {'5', '6', '8'},\n",
       " 659: {'5', '6', '9'},\n",
       " 660: {'0', '6'},\n",
       " 661: {'1', '6'},\n",
       " 662: {'2', '6'},\n",
       " 663: {'3', '6'},\n",
       " 664: {'4', '6'},\n",
       " 665: {'5', '6'},\n",
       " 666: {'6'},\n",
       " 667: {'6', '7'},\n",
       " 668: {'6', '8'},\n",
       " 669: {'6', '9'},\n",
       " 670: {'0', '6', '7'},\n",
       " 671: {'1', '6', '7'},\n",
       " 672: {'2', '6', '7'},\n",
       " 673: {'3', '6', '7'},\n",
       " 674: {'4', '6', '7'},\n",
       " 675: {'5', '6', '7'},\n",
       " 676: {'6', '7'},\n",
       " 677: {'6', '7'},\n",
       " 678: {'6', '7', '8'},\n",
       " 679: {'6', '7', '9'},\n",
       " 680: {'0', '6', '8'},\n",
       " 681: {'1', '6', '8'},\n",
       " 682: {'2', '6', '8'},\n",
       " 683: {'3', '6', '8'},\n",
       " 684: {'4', '6', '8'},\n",
       " 685: {'5', '6', '8'},\n",
       " 686: {'6', '8'},\n",
       " 687: {'6', '7', '8'},\n",
       " 688: {'6', '8'},\n",
       " 689: {'6', '8', '9'},\n",
       " 690: {'0', '6', '9'},\n",
       " 691: {'1', '6', '9'},\n",
       " 692: {'2', '6', '9'},\n",
       " 693: {'3', '6', '9'},\n",
       " 694: {'4', '6', '9'},\n",
       " 695: {'5', '6', '9'},\n",
       " 696: {'6', '9'},\n",
       " 697: {'6', '7', '9'},\n",
       " 698: {'6', '8', '9'},\n",
       " 699: {'6', '9'},\n",
       " 700: {'0', '7'},\n",
       " 701: {'0', '1', '7'},\n",
       " 702: {'0', '2', '7'},\n",
       " 703: {'0', '3', '7'},\n",
       " 704: {'0', '4', '7'},\n",
       " 705: {'0', '5', '7'},\n",
       " 706: {'0', '6', '7'},\n",
       " 707: {'0', '7'},\n",
       " 708: {'0', '7', '8'},\n",
       " 709: {'0', '7', '9'},\n",
       " 710: {'0', '1', '7'},\n",
       " 711: {'1', '7'},\n",
       " 712: {'1', '2', '7'},\n",
       " 713: {'1', '3', '7'},\n",
       " 714: {'1', '4', '7'},\n",
       " 715: {'1', '5', '7'},\n",
       " 716: {'1', '6', '7'},\n",
       " 717: {'1', '7'},\n",
       " 718: {'1', '7', '8'},\n",
       " 719: {'1', '7', '9'},\n",
       " 720: {'0', '2', '7'},\n",
       " 721: {'1', '2', '7'},\n",
       " 722: {'2', '7'},\n",
       " 723: {'2', '3', '7'},\n",
       " 724: {'2', '4', '7'},\n",
       " 725: {'2', '5', '7'},\n",
       " 726: {'2', '6', '7'},\n",
       " 727: {'2', '7'},\n",
       " 728: {'2', '7', '8'},\n",
       " 729: {'2', '7', '9'},\n",
       " 730: {'0', '3', '7'},\n",
       " 731: {'1', '3', '7'},\n",
       " 732: {'2', '3', '7'},\n",
       " 733: {'3', '7'},\n",
       " 734: {'3', '4', '7'},\n",
       " 735: {'3', '5', '7'},\n",
       " 736: {'3', '6', '7'},\n",
       " 737: {'3', '7'},\n",
       " 738: {'3', '7', '8'},\n",
       " 739: {'3', '7', '9'},\n",
       " 740: {'0', '4', '7'},\n",
       " 741: {'1', '4', '7'},\n",
       " 742: {'2', '4', '7'},\n",
       " 743: {'3', '4', '7'},\n",
       " 744: {'4', '7'},\n",
       " 745: {'4', '5', '7'},\n",
       " 746: {'4', '6', '7'},\n",
       " 747: {'4', '7'},\n",
       " 748: {'4', '7', '8'},\n",
       " 749: {'4', '7', '9'},\n",
       " 750: {'0', '5', '7'},\n",
       " 751: {'1', '5', '7'},\n",
       " 752: {'2', '5', '7'},\n",
       " 753: {'3', '5', '7'},\n",
       " 754: {'4', '5', '7'},\n",
       " 755: {'5', '7'},\n",
       " 756: {'5', '6', '7'},\n",
       " 757: {'5', '7'},\n",
       " 758: {'5', '7', '8'},\n",
       " 759: {'5', '7', '9'},\n",
       " 760: {'0', '6', '7'},\n",
       " 761: {'1', '6', '7'},\n",
       " 762: {'2', '6', '7'},\n",
       " 763: {'3', '6', '7'},\n",
       " 764: {'4', '6', '7'},\n",
       " 765: {'5', '6', '7'},\n",
       " 766: {'6', '7'},\n",
       " 767: {'6', '7'},\n",
       " 768: {'6', '7', '8'},\n",
       " 769: {'6', '7', '9'},\n",
       " 770: {'0', '7'},\n",
       " 771: {'1', '7'},\n",
       " 772: {'2', '7'},\n",
       " 773: {'3', '7'},\n",
       " 774: {'4', '7'},\n",
       " 775: {'5', '7'},\n",
       " 776: {'6', '7'},\n",
       " 777: {'7'},\n",
       " 778: {'7', '8'},\n",
       " 779: {'7', '9'},\n",
       " 780: {'0', '7', '8'},\n",
       " 781: {'1', '7', '8'},\n",
       " 782: {'2', '7', '8'},\n",
       " 783: {'3', '7', '8'},\n",
       " 784: {'4', '7', '8'},\n",
       " 785: {'5', '7', '8'},\n",
       " 786: {'6', '7', '8'},\n",
       " 787: {'7', '8'},\n",
       " 788: {'7', '8'},\n",
       " 789: {'7', '8', '9'},\n",
       " 790: {'0', '7', '9'},\n",
       " 791: {'1', '7', '9'},\n",
       " 792: {'2', '7', '9'},\n",
       " 793: {'3', '7', '9'},\n",
       " 794: {'4', '7', '9'},\n",
       " 795: {'5', '7', '9'},\n",
       " 796: {'6', '7', '9'},\n",
       " 797: {'7', '9'},\n",
       " 798: {'7', '8', '9'},\n",
       " 799: {'7', '9'},\n",
       " 800: {'0', '8'},\n",
       " 801: {'0', '1', '8'},\n",
       " 802: {'0', '2', '8'},\n",
       " 803: {'0', '3', '8'},\n",
       " 804: {'0', '4', '8'},\n",
       " 805: {'0', '5', '8'},\n",
       " 806: {'0', '6', '8'},\n",
       " 807: {'0', '7', '8'},\n",
       " 808: {'0', '8'},\n",
       " 809: {'0', '8', '9'},\n",
       " 810: {'0', '1', '8'},\n",
       " 811: {'1', '8'},\n",
       " 812: {'1', '2', '8'},\n",
       " 813: {'1', '3', '8'},\n",
       " 814: {'1', '4', '8'},\n",
       " 815: {'1', '5', '8'},\n",
       " 816: {'1', '6', '8'},\n",
       " 817: {'1', '7', '8'},\n",
       " 818: {'1', '8'},\n",
       " 819: {'1', '8', '9'},\n",
       " 820: {'0', '2', '8'},\n",
       " 821: {'1', '2', '8'},\n",
       " 822: {'2', '8'},\n",
       " 823: {'2', '3', '8'},\n",
       " 824: {'2', '4', '8'},\n",
       " 825: {'2', '5', '8'},\n",
       " 826: {'2', '6', '8'},\n",
       " 827: {'2', '7', '8'},\n",
       " 828: {'2', '8'},\n",
       " 829: {'2', '8', '9'},\n",
       " 830: {'0', '3', '8'},\n",
       " 831: {'1', '3', '8'},\n",
       " 832: {'2', '3', '8'},\n",
       " 833: {'3', '8'},\n",
       " 834: {'3', '4', '8'},\n",
       " 835: {'3', '5', '8'},\n",
       " 836: {'3', '6', '8'},\n",
       " 837: {'3', '7', '8'},\n",
       " 838: {'3', '8'},\n",
       " 839: {'3', '8', '9'},\n",
       " 840: {'0', '4', '8'},\n",
       " 841: {'1', '4', '8'},\n",
       " 842: {'2', '4', '8'},\n",
       " 843: {'3', '4', '8'},\n",
       " 844: {'4', '8'},\n",
       " 845: {'4', '5', '8'},\n",
       " 846: {'4', '6', '8'},\n",
       " 847: {'4', '7', '8'},\n",
       " 848: {'4', '8'},\n",
       " 849: {'4', '8', '9'},\n",
       " 850: {'0', '5', '8'},\n",
       " 851: {'1', '5', '8'},\n",
       " 852: {'2', '5', '8'},\n",
       " 853: {'3', '5', '8'},\n",
       " 854: {'4', '5', '8'},\n",
       " 855: {'5', '8'},\n",
       " 856: {'5', '6', '8'},\n",
       " 857: {'5', '7', '8'},\n",
       " 858: {'5', '8'},\n",
       " 859: {'5', '8', '9'},\n",
       " 860: {'0', '6', '8'},\n",
       " 861: {'1', '6', '8'},\n",
       " 862: {'2', '6', '8'},\n",
       " 863: {'3', '6', '8'},\n",
       " 864: {'4', '6', '8'},\n",
       " 865: {'5', '6', '8'},\n",
       " 866: {'6', '8'},\n",
       " 867: {'6', '7', '8'},\n",
       " 868: {'6', '8'},\n",
       " 869: {'6', '8', '9'},\n",
       " 870: {'0', '7', '8'},\n",
       " 871: {'1', '7', '8'},\n",
       " 872: {'2', '7', '8'},\n",
       " 873: {'3', '7', '8'},\n",
       " 874: {'4', '7', '8'},\n",
       " 875: {'5', '7', '8'},\n",
       " 876: {'6', '7', '8'},\n",
       " 877: {'7', '8'},\n",
       " 878: {'7', '8'},\n",
       " 879: {'7', '8', '9'},\n",
       " 880: {'0', '8'},\n",
       " 881: {'1', '8'},\n",
       " 882: {'2', '8'},\n",
       " 883: {'3', '8'},\n",
       " 884: {'4', '8'},\n",
       " 885: {'5', '8'},\n",
       " 886: {'6', '8'},\n",
       " 887: {'7', '8'},\n",
       " 888: {'8'},\n",
       " 889: {'8', '9'},\n",
       " 890: {'0', '8', '9'},\n",
       " 891: {'1', '8', '9'},\n",
       " 892: {'2', '8', '9'},\n",
       " 893: {'3', '8', '9'},\n",
       " 894: {'4', '8', '9'},\n",
       " 895: {'5', '8', '9'},\n",
       " 896: {'6', '8', '9'},\n",
       " 897: {'7', '8', '9'},\n",
       " 898: {'8', '9'},\n",
       " 899: {'8', '9'},\n",
       " 900: {'0', '9'},\n",
       " 901: {'0', '1', '9'},\n",
       " 902: {'0', '2', '9'},\n",
       " 903: {'0', '3', '9'},\n",
       " 904: {'0', '4', '9'},\n",
       " 905: {'0', '5', '9'},\n",
       " 906: {'0', '6', '9'},\n",
       " 907: {'0', '7', '9'},\n",
       " 908: {'0', '8', '9'},\n",
       " 909: {'0', '9'},\n",
       " 910: {'0', '1', '9'},\n",
       " 911: {'1', '9'},\n",
       " 912: {'1', '2', '9'},\n",
       " 913: {'1', '3', '9'},\n",
       " 914: {'1', '4', '9'},\n",
       " 915: {'1', '5', '9'},\n",
       " 916: {'1', '6', '9'},\n",
       " 917: {'1', '7', '9'},\n",
       " 918: {'1', '8', '9'},\n",
       " 919: {'1', '9'},\n",
       " 920: {'0', '2', '9'},\n",
       " 921: {'1', '2', '9'},\n",
       " 922: {'2', '9'},\n",
       " 923: {'2', '3', '9'},\n",
       " 924: {'2', '4', '9'},\n",
       " 925: {'2', '5', '9'},\n",
       " 926: {'2', '6', '9'},\n",
       " 927: {'2', '7', '9'},\n",
       " 928: {'2', '8', '9'},\n",
       " 929: {'2', '9'},\n",
       " 930: {'0', '3', '9'},\n",
       " 931: {'1', '3', '9'},\n",
       " 932: {'2', '3', '9'},\n",
       " 933: {'3', '9'},\n",
       " 934: {'3', '4', '9'},\n",
       " 935: {'3', '5', '9'},\n",
       " 936: {'3', '6', '9'},\n",
       " 937: {'3', '7', '9'},\n",
       " 938: {'3', '8', '9'},\n",
       " 939: {'3', '9'},\n",
       " 940: {'0', '4', '9'},\n",
       " 941: {'1', '4', '9'},\n",
       " 942: {'2', '4', '9'},\n",
       " 943: {'3', '4', '9'},\n",
       " 944: {'4', '9'},\n",
       " 945: {'4', '5', '9'},\n",
       " 946: {'4', '6', '9'},\n",
       " 947: {'4', '7', '9'},\n",
       " 948: {'4', '8', '9'},\n",
       " 949: {'4', '9'},\n",
       " 950: {'0', '5', '9'},\n",
       " 951: {'1', '5', '9'},\n",
       " 952: {'2', '5', '9'},\n",
       " 953: {'3', '5', '9'},\n",
       " 954: {'4', '5', '9'},\n",
       " 955: {'5', '9'},\n",
       " 956: {'5', '6', '9'},\n",
       " 957: {'5', '7', '9'},\n",
       " 958: {'5', '8', '9'},\n",
       " 959: {'5', '9'},\n",
       " 960: {'0', '6', '9'},\n",
       " 961: {'1', '6', '9'},\n",
       " 962: {'2', '6', '9'},\n",
       " 963: {'3', '6', '9'},\n",
       " 964: {'4', '6', '9'},\n",
       " 965: {'5', '6', '9'},\n",
       " 966: {'6', '9'},\n",
       " 967: {'6', '7', '9'},\n",
       " 968: {'6', '8', '9'},\n",
       " 969: {'6', '9'},\n",
       " 970: {'0', '7', '9'},\n",
       " 971: {'1', '7', '9'},\n",
       " 972: {'2', '7', '9'},\n",
       " 973: {'3', '7', '9'},\n",
       " 974: {'4', '7', '9'},\n",
       " 975: {'5', '7', '9'},\n",
       " 976: {'6', '7', '9'},\n",
       " 977: {'7', '9'},\n",
       " 978: {'7', '8', '9'},\n",
       " 979: {'7', '9'},\n",
       " 980: {'0', '8', '9'},\n",
       " 981: {'1', '8', '9'},\n",
       " 982: {'2', '8', '9'},\n",
       " 983: {'3', '8', '9'},\n",
       " 984: {'4', '8', '9'},\n",
       " 985: {'5', '8', '9'},\n",
       " 986: {'6', '8', '9'},\n",
       " 987: {'7', '8', '9'},\n",
       " 988: {'8', '9'},\n",
       " 989: {'8', '9'},\n",
       " 990: {'0', '9'},\n",
       " 991: {'1', '9'},\n",
       " 992: {'2', '9'},\n",
       " 993: {'3', '9'},\n",
       " 994: {'4', '9'},\n",
       " 995: {'5', '9'},\n",
       " 996: {'6', '9'},\n",
       " 997: {'7', '9'},\n",
       " 998: {'8', '9'},\n",
       " 999: {'9'},\n",
       " ...}"
      ]
     },
     "execution_count": 43,
     "metadata": {},
     "output_type": "execute_result"
    }
   ],
   "source": [
    "d3 = {i :{j for j in str(i)} for i in range(1001)}\n",
    "d3"
   ]
  },
  {
   "cell_type": "markdown",
   "metadata": {},
   "source": [
    "- *Devuelve sólo los número formados por una cifra*"
   ]
  },
  {
   "cell_type": "code",
   "execution_count": 55,
   "metadata": {},
   "outputs": [
    {
     "data": {
      "text/plain": [
       "{0: {'0'},\n",
       " 1: {'1'},\n",
       " 2: {'2'},\n",
       " 3: {'3'},\n",
       " 4: {'4'},\n",
       " 5: {'5'},\n",
       " 6: {'6'},\n",
       " 7: {'7'},\n",
       " 8: {'8'},\n",
       " 9: {'9'},\n",
       " 10: set(),\n",
       " 11: set(),\n",
       " 12: set(),\n",
       " 13: set(),\n",
       " 14: set(),\n",
       " 15: set(),\n",
       " 16: set(),\n",
       " 17: set(),\n",
       " 18: set(),\n",
       " 19: set(),\n",
       " 20: set(),\n",
       " 21: set(),\n",
       " 22: set(),\n",
       " 23: set(),\n",
       " 24: set(),\n",
       " 25: set(),\n",
       " 26: set(),\n",
       " 27: set(),\n",
       " 28: set(),\n",
       " 29: set(),\n",
       " 30: set(),\n",
       " 31: set(),\n",
       " 32: set(),\n",
       " 33: set(),\n",
       " 34: set(),\n",
       " 35: set(),\n",
       " 36: set(),\n",
       " 37: set(),\n",
       " 38: set(),\n",
       " 39: set(),\n",
       " 40: set(),\n",
       " 41: set(),\n",
       " 42: set(),\n",
       " 43: set(),\n",
       " 44: set(),\n",
       " 45: set(),\n",
       " 46: set(),\n",
       " 47: set(),\n",
       " 48: set(),\n",
       " 49: set(),\n",
       " 50: set(),\n",
       " 51: set(),\n",
       " 52: set(),\n",
       " 53: set(),\n",
       " 54: set(),\n",
       " 55: set(),\n",
       " 56: set(),\n",
       " 57: set(),\n",
       " 58: set(),\n",
       " 59: set(),\n",
       " 60: set(),\n",
       " 61: set(),\n",
       " 62: set(),\n",
       " 63: set(),\n",
       " 64: set(),\n",
       " 65: set(),\n",
       " 66: set(),\n",
       " 67: set(),\n",
       " 68: set(),\n",
       " 69: set(),\n",
       " 70: set(),\n",
       " 71: set(),\n",
       " 72: set(),\n",
       " 73: set(),\n",
       " 74: set(),\n",
       " 75: set(),\n",
       " 76: set(),\n",
       " 77: set(),\n",
       " 78: set(),\n",
       " 79: set(),\n",
       " 80: set(),\n",
       " 81: set(),\n",
       " 82: set(),\n",
       " 83: set(),\n",
       " 84: set(),\n",
       " 85: set(),\n",
       " 86: set(),\n",
       " 87: set(),\n",
       " 88: set(),\n",
       " 89: set(),\n",
       " 90: set(),\n",
       " 91: set(),\n",
       " 92: set(),\n",
       " 93: set(),\n",
       " 94: set(),\n",
       " 95: set(),\n",
       " 96: set(),\n",
       " 97: set(),\n",
       " 98: set(),\n",
       " 99: set(),\n",
       " 100: set(),\n",
       " 101: set(),\n",
       " 102: set(),\n",
       " 103: set(),\n",
       " 104: set(),\n",
       " 105: set(),\n",
       " 106: set(),\n",
       " 107: set(),\n",
       " 108: set(),\n",
       " 109: set(),\n",
       " 110: set(),\n",
       " 111: set(),\n",
       " 112: set(),\n",
       " 113: set(),\n",
       " 114: set(),\n",
       " 115: set(),\n",
       " 116: set(),\n",
       " 117: set(),\n",
       " 118: set(),\n",
       " 119: set(),\n",
       " 120: set(),\n",
       " 121: set(),\n",
       " 122: set(),\n",
       " 123: set(),\n",
       " 124: set(),\n",
       " 125: set(),\n",
       " 126: set(),\n",
       " 127: set(),\n",
       " 128: set(),\n",
       " 129: set(),\n",
       " 130: set(),\n",
       " 131: set(),\n",
       " 132: set(),\n",
       " 133: set(),\n",
       " 134: set(),\n",
       " 135: set(),\n",
       " 136: set(),\n",
       " 137: set(),\n",
       " 138: set(),\n",
       " 139: set(),\n",
       " 140: set(),\n",
       " 141: set(),\n",
       " 142: set(),\n",
       " 143: set(),\n",
       " 144: set(),\n",
       " 145: set(),\n",
       " 146: set(),\n",
       " 147: set(),\n",
       " 148: set(),\n",
       " 149: set(),\n",
       " 150: set(),\n",
       " 151: set(),\n",
       " 152: set(),\n",
       " 153: set(),\n",
       " 154: set(),\n",
       " 155: set(),\n",
       " 156: set(),\n",
       " 157: set(),\n",
       " 158: set(),\n",
       " 159: set(),\n",
       " 160: set(),\n",
       " 161: set(),\n",
       " 162: set(),\n",
       " 163: set(),\n",
       " 164: set(),\n",
       " 165: set(),\n",
       " 166: set(),\n",
       " 167: set(),\n",
       " 168: set(),\n",
       " 169: set(),\n",
       " 170: set(),\n",
       " 171: set(),\n",
       " 172: set(),\n",
       " 173: set(),\n",
       " 174: set(),\n",
       " 175: set(),\n",
       " 176: set(),\n",
       " 177: set(),\n",
       " 178: set(),\n",
       " 179: set(),\n",
       " 180: set(),\n",
       " 181: set(),\n",
       " 182: set(),\n",
       " 183: set(),\n",
       " 184: set(),\n",
       " 185: set(),\n",
       " 186: set(),\n",
       " 187: set(),\n",
       " 188: set(),\n",
       " 189: set(),\n",
       " 190: set(),\n",
       " 191: set(),\n",
       " 192: set(),\n",
       " 193: set(),\n",
       " 194: set(),\n",
       " 195: set(),\n",
       " 196: set(),\n",
       " 197: set(),\n",
       " 198: set(),\n",
       " 199: set(),\n",
       " 200: set(),\n",
       " 201: set(),\n",
       " 202: set(),\n",
       " 203: set(),\n",
       " 204: set(),\n",
       " 205: set(),\n",
       " 206: set(),\n",
       " 207: set(),\n",
       " 208: set(),\n",
       " 209: set(),\n",
       " 210: set(),\n",
       " 211: set(),\n",
       " 212: set(),\n",
       " 213: set(),\n",
       " 214: set(),\n",
       " 215: set(),\n",
       " 216: set(),\n",
       " 217: set(),\n",
       " 218: set(),\n",
       " 219: set(),\n",
       " 220: set(),\n",
       " 221: set(),\n",
       " 222: set(),\n",
       " 223: set(),\n",
       " 224: set(),\n",
       " 225: set(),\n",
       " 226: set(),\n",
       " 227: set(),\n",
       " 228: set(),\n",
       " 229: set(),\n",
       " 230: set(),\n",
       " 231: set(),\n",
       " 232: set(),\n",
       " 233: set(),\n",
       " 234: set(),\n",
       " 235: set(),\n",
       " 236: set(),\n",
       " 237: set(),\n",
       " 238: set(),\n",
       " 239: set(),\n",
       " 240: set(),\n",
       " 241: set(),\n",
       " 242: set(),\n",
       " 243: set(),\n",
       " 244: set(),\n",
       " 245: set(),\n",
       " 246: set(),\n",
       " 247: set(),\n",
       " 248: set(),\n",
       " 249: set(),\n",
       " 250: set(),\n",
       " 251: set(),\n",
       " 252: set(),\n",
       " 253: set(),\n",
       " 254: set(),\n",
       " 255: set(),\n",
       " 256: set(),\n",
       " 257: set(),\n",
       " 258: set(),\n",
       " 259: set(),\n",
       " 260: set(),\n",
       " 261: set(),\n",
       " 262: set(),\n",
       " 263: set(),\n",
       " 264: set(),\n",
       " 265: set(),\n",
       " 266: set(),\n",
       " 267: set(),\n",
       " 268: set(),\n",
       " 269: set(),\n",
       " 270: set(),\n",
       " 271: set(),\n",
       " 272: set(),\n",
       " 273: set(),\n",
       " 274: set(),\n",
       " 275: set(),\n",
       " 276: set(),\n",
       " 277: set(),\n",
       " 278: set(),\n",
       " 279: set(),\n",
       " 280: set(),\n",
       " 281: set(),\n",
       " 282: set(),\n",
       " 283: set(),\n",
       " 284: set(),\n",
       " 285: set(),\n",
       " 286: set(),\n",
       " 287: set(),\n",
       " 288: set(),\n",
       " 289: set(),\n",
       " 290: set(),\n",
       " 291: set(),\n",
       " 292: set(),\n",
       " 293: set(),\n",
       " 294: set(),\n",
       " 295: set(),\n",
       " 296: set(),\n",
       " 297: set(),\n",
       " 298: set(),\n",
       " 299: set(),\n",
       " 300: set(),\n",
       " 301: set(),\n",
       " 302: set(),\n",
       " 303: set(),\n",
       " 304: set(),\n",
       " 305: set(),\n",
       " 306: set(),\n",
       " 307: set(),\n",
       " 308: set(),\n",
       " 309: set(),\n",
       " 310: set(),\n",
       " 311: set(),\n",
       " 312: set(),\n",
       " 313: set(),\n",
       " 314: set(),\n",
       " 315: set(),\n",
       " 316: set(),\n",
       " 317: set(),\n",
       " 318: set(),\n",
       " 319: set(),\n",
       " 320: set(),\n",
       " 321: set(),\n",
       " 322: set(),\n",
       " 323: set(),\n",
       " 324: set(),\n",
       " 325: set(),\n",
       " 326: set(),\n",
       " 327: set(),\n",
       " 328: set(),\n",
       " 329: set(),\n",
       " 330: set(),\n",
       " 331: set(),\n",
       " 332: set(),\n",
       " 333: set(),\n",
       " 334: set(),\n",
       " 335: set(),\n",
       " 336: set(),\n",
       " 337: set(),\n",
       " 338: set(),\n",
       " 339: set(),\n",
       " 340: set(),\n",
       " 341: set(),\n",
       " 342: set(),\n",
       " 343: set(),\n",
       " 344: set(),\n",
       " 345: set(),\n",
       " 346: set(),\n",
       " 347: set(),\n",
       " 348: set(),\n",
       " 349: set(),\n",
       " 350: set(),\n",
       " 351: set(),\n",
       " 352: set(),\n",
       " 353: set(),\n",
       " 354: set(),\n",
       " 355: set(),\n",
       " 356: set(),\n",
       " 357: set(),\n",
       " 358: set(),\n",
       " 359: set(),\n",
       " 360: set(),\n",
       " 361: set(),\n",
       " 362: set(),\n",
       " 363: set(),\n",
       " 364: set(),\n",
       " 365: set(),\n",
       " 366: set(),\n",
       " 367: set(),\n",
       " 368: set(),\n",
       " 369: set(),\n",
       " 370: set(),\n",
       " 371: set(),\n",
       " 372: set(),\n",
       " 373: set(),\n",
       " 374: set(),\n",
       " 375: set(),\n",
       " 376: set(),\n",
       " 377: set(),\n",
       " 378: set(),\n",
       " 379: set(),\n",
       " 380: set(),\n",
       " 381: set(),\n",
       " 382: set(),\n",
       " 383: set(),\n",
       " 384: set(),\n",
       " 385: set(),\n",
       " 386: set(),\n",
       " 387: set(),\n",
       " 388: set(),\n",
       " 389: set(),\n",
       " 390: set(),\n",
       " 391: set(),\n",
       " 392: set(),\n",
       " 393: set(),\n",
       " 394: set(),\n",
       " 395: set(),\n",
       " 396: set(),\n",
       " 397: set(),\n",
       " 398: set(),\n",
       " 399: set(),\n",
       " 400: set(),\n",
       " 401: set(),\n",
       " 402: set(),\n",
       " 403: set(),\n",
       " 404: set(),\n",
       " 405: set(),\n",
       " 406: set(),\n",
       " 407: set(),\n",
       " 408: set(),\n",
       " 409: set(),\n",
       " 410: set(),\n",
       " 411: set(),\n",
       " 412: set(),\n",
       " 413: set(),\n",
       " 414: set(),\n",
       " 415: set(),\n",
       " 416: set(),\n",
       " 417: set(),\n",
       " 418: set(),\n",
       " 419: set(),\n",
       " 420: set(),\n",
       " 421: set(),\n",
       " 422: set(),\n",
       " 423: set(),\n",
       " 424: set(),\n",
       " 425: set(),\n",
       " 426: set(),\n",
       " 427: set(),\n",
       " 428: set(),\n",
       " 429: set(),\n",
       " 430: set(),\n",
       " 431: set(),\n",
       " 432: set(),\n",
       " 433: set(),\n",
       " 434: set(),\n",
       " 435: set(),\n",
       " 436: set(),\n",
       " 437: set(),\n",
       " 438: set(),\n",
       " 439: set(),\n",
       " 440: set(),\n",
       " 441: set(),\n",
       " 442: set(),\n",
       " 443: set(),\n",
       " 444: set(),\n",
       " 445: set(),\n",
       " 446: set(),\n",
       " 447: set(),\n",
       " 448: set(),\n",
       " 449: set(),\n",
       " 450: set(),\n",
       " 451: set(),\n",
       " 452: set(),\n",
       " 453: set(),\n",
       " 454: set(),\n",
       " 455: set(),\n",
       " 456: set(),\n",
       " 457: set(),\n",
       " 458: set(),\n",
       " 459: set(),\n",
       " 460: set(),\n",
       " 461: set(),\n",
       " 462: set(),\n",
       " 463: set(),\n",
       " 464: set(),\n",
       " 465: set(),\n",
       " 466: set(),\n",
       " 467: set(),\n",
       " 468: set(),\n",
       " 469: set(),\n",
       " 470: set(),\n",
       " 471: set(),\n",
       " 472: set(),\n",
       " 473: set(),\n",
       " 474: set(),\n",
       " 475: set(),\n",
       " 476: set(),\n",
       " 477: set(),\n",
       " 478: set(),\n",
       " 479: set(),\n",
       " 480: set(),\n",
       " 481: set(),\n",
       " 482: set(),\n",
       " 483: set(),\n",
       " 484: set(),\n",
       " 485: set(),\n",
       " 486: set(),\n",
       " 487: set(),\n",
       " 488: set(),\n",
       " 489: set(),\n",
       " 490: set(),\n",
       " 491: set(),\n",
       " 492: set(),\n",
       " 493: set(),\n",
       " 494: set(),\n",
       " 495: set(),\n",
       " 496: set(),\n",
       " 497: set(),\n",
       " 498: set(),\n",
       " 499: set(),\n",
       " 500: set(),\n",
       " 501: set(),\n",
       " 502: set(),\n",
       " 503: set(),\n",
       " 504: set(),\n",
       " 505: set(),\n",
       " 506: set(),\n",
       " 507: set(),\n",
       " 508: set(),\n",
       " 509: set(),\n",
       " 510: set(),\n",
       " 511: set(),\n",
       " 512: set(),\n",
       " 513: set(),\n",
       " 514: set(),\n",
       " 515: set(),\n",
       " 516: set(),\n",
       " 517: set(),\n",
       " 518: set(),\n",
       " 519: set(),\n",
       " 520: set(),\n",
       " 521: set(),\n",
       " 522: set(),\n",
       " 523: set(),\n",
       " 524: set(),\n",
       " 525: set(),\n",
       " 526: set(),\n",
       " 527: set(),\n",
       " 528: set(),\n",
       " 529: set(),\n",
       " 530: set(),\n",
       " 531: set(),\n",
       " 532: set(),\n",
       " 533: set(),\n",
       " 534: set(),\n",
       " 535: set(),\n",
       " 536: set(),\n",
       " 537: set(),\n",
       " 538: set(),\n",
       " 539: set(),\n",
       " 540: set(),\n",
       " 541: set(),\n",
       " 542: set(),\n",
       " 543: set(),\n",
       " 544: set(),\n",
       " 545: set(),\n",
       " 546: set(),\n",
       " 547: set(),\n",
       " 548: set(),\n",
       " 549: set(),\n",
       " 550: set(),\n",
       " 551: set(),\n",
       " 552: set(),\n",
       " 553: set(),\n",
       " 554: set(),\n",
       " 555: set(),\n",
       " 556: set(),\n",
       " 557: set(),\n",
       " 558: set(),\n",
       " 559: set(),\n",
       " 560: set(),\n",
       " 561: set(),\n",
       " 562: set(),\n",
       " 563: set(),\n",
       " 564: set(),\n",
       " 565: set(),\n",
       " 566: set(),\n",
       " 567: set(),\n",
       " 568: set(),\n",
       " 569: set(),\n",
       " 570: set(),\n",
       " 571: set(),\n",
       " 572: set(),\n",
       " 573: set(),\n",
       " 574: set(),\n",
       " 575: set(),\n",
       " 576: set(),\n",
       " 577: set(),\n",
       " 578: set(),\n",
       " 579: set(),\n",
       " 580: set(),\n",
       " 581: set(),\n",
       " 582: set(),\n",
       " 583: set(),\n",
       " 584: set(),\n",
       " 585: set(),\n",
       " 586: set(),\n",
       " 587: set(),\n",
       " 588: set(),\n",
       " 589: set(),\n",
       " 590: set(),\n",
       " 591: set(),\n",
       " 592: set(),\n",
       " 593: set(),\n",
       " 594: set(),\n",
       " 595: set(),\n",
       " 596: set(),\n",
       " 597: set(),\n",
       " 598: set(),\n",
       " 599: set(),\n",
       " 600: set(),\n",
       " 601: set(),\n",
       " 602: set(),\n",
       " 603: set(),\n",
       " 604: set(),\n",
       " 605: set(),\n",
       " 606: set(),\n",
       " 607: set(),\n",
       " 608: set(),\n",
       " 609: set(),\n",
       " 610: set(),\n",
       " 611: set(),\n",
       " 612: set(),\n",
       " 613: set(),\n",
       " 614: set(),\n",
       " 615: set(),\n",
       " 616: set(),\n",
       " 617: set(),\n",
       " 618: set(),\n",
       " 619: set(),\n",
       " 620: set(),\n",
       " 621: set(),\n",
       " 622: set(),\n",
       " 623: set(),\n",
       " 624: set(),\n",
       " 625: set(),\n",
       " 626: set(),\n",
       " 627: set(),\n",
       " 628: set(),\n",
       " 629: set(),\n",
       " 630: set(),\n",
       " 631: set(),\n",
       " 632: set(),\n",
       " 633: set(),\n",
       " 634: set(),\n",
       " 635: set(),\n",
       " 636: set(),\n",
       " 637: set(),\n",
       " 638: set(),\n",
       " 639: set(),\n",
       " 640: set(),\n",
       " 641: set(),\n",
       " 642: set(),\n",
       " 643: set(),\n",
       " 644: set(),\n",
       " 645: set(),\n",
       " 646: set(),\n",
       " 647: set(),\n",
       " 648: set(),\n",
       " 649: set(),\n",
       " 650: set(),\n",
       " 651: set(),\n",
       " 652: set(),\n",
       " 653: set(),\n",
       " 654: set(),\n",
       " 655: set(),\n",
       " 656: set(),\n",
       " 657: set(),\n",
       " 658: set(),\n",
       " 659: set(),\n",
       " 660: set(),\n",
       " 661: set(),\n",
       " 662: set(),\n",
       " 663: set(),\n",
       " 664: set(),\n",
       " 665: set(),\n",
       " 666: set(),\n",
       " 667: set(),\n",
       " 668: set(),\n",
       " 669: set(),\n",
       " 670: set(),\n",
       " 671: set(),\n",
       " 672: set(),\n",
       " 673: set(),\n",
       " 674: set(),\n",
       " 675: set(),\n",
       " 676: set(),\n",
       " 677: set(),\n",
       " 678: set(),\n",
       " 679: set(),\n",
       " 680: set(),\n",
       " 681: set(),\n",
       " 682: set(),\n",
       " 683: set(),\n",
       " 684: set(),\n",
       " 685: set(),\n",
       " 686: set(),\n",
       " 687: set(),\n",
       " 688: set(),\n",
       " 689: set(),\n",
       " 690: set(),\n",
       " 691: set(),\n",
       " 692: set(),\n",
       " 693: set(),\n",
       " 694: set(),\n",
       " 695: set(),\n",
       " 696: set(),\n",
       " 697: set(),\n",
       " 698: set(),\n",
       " 699: set(),\n",
       " 700: set(),\n",
       " 701: set(),\n",
       " 702: set(),\n",
       " 703: set(),\n",
       " 704: set(),\n",
       " 705: set(),\n",
       " 706: set(),\n",
       " 707: set(),\n",
       " 708: set(),\n",
       " 709: set(),\n",
       " 710: set(),\n",
       " 711: set(),\n",
       " 712: set(),\n",
       " 713: set(),\n",
       " 714: set(),\n",
       " 715: set(),\n",
       " 716: set(),\n",
       " 717: set(),\n",
       " 718: set(),\n",
       " 719: set(),\n",
       " 720: set(),\n",
       " 721: set(),\n",
       " 722: set(),\n",
       " 723: set(),\n",
       " 724: set(),\n",
       " 725: set(),\n",
       " 726: set(),\n",
       " 727: set(),\n",
       " 728: set(),\n",
       " 729: set(),\n",
       " 730: set(),\n",
       " 731: set(),\n",
       " 732: set(),\n",
       " 733: set(),\n",
       " 734: set(),\n",
       " 735: set(),\n",
       " 736: set(),\n",
       " 737: set(),\n",
       " 738: set(),\n",
       " 739: set(),\n",
       " 740: set(),\n",
       " 741: set(),\n",
       " 742: set(),\n",
       " 743: set(),\n",
       " 744: set(),\n",
       " 745: set(),\n",
       " 746: set(),\n",
       " 747: set(),\n",
       " 748: set(),\n",
       " 749: set(),\n",
       " 750: set(),\n",
       " 751: set(),\n",
       " 752: set(),\n",
       " 753: set(),\n",
       " 754: set(),\n",
       " 755: set(),\n",
       " 756: set(),\n",
       " 757: set(),\n",
       " 758: set(),\n",
       " 759: set(),\n",
       " 760: set(),\n",
       " 761: set(),\n",
       " 762: set(),\n",
       " 763: set(),\n",
       " 764: set(),\n",
       " 765: set(),\n",
       " 766: set(),\n",
       " 767: set(),\n",
       " 768: set(),\n",
       " 769: set(),\n",
       " 770: set(),\n",
       " 771: set(),\n",
       " 772: set(),\n",
       " 773: set(),\n",
       " 774: set(),\n",
       " 775: set(),\n",
       " 776: set(),\n",
       " 777: set(),\n",
       " 778: set(),\n",
       " 779: set(),\n",
       " 780: set(),\n",
       " 781: set(),\n",
       " 782: set(),\n",
       " 783: set(),\n",
       " 784: set(),\n",
       " 785: set(),\n",
       " 786: set(),\n",
       " 787: set(),\n",
       " 788: set(),\n",
       " 789: set(),\n",
       " 790: set(),\n",
       " 791: set(),\n",
       " 792: set(),\n",
       " 793: set(),\n",
       " 794: set(),\n",
       " 795: set(),\n",
       " 796: set(),\n",
       " 797: set(),\n",
       " 798: set(),\n",
       " 799: set(),\n",
       " 800: set(),\n",
       " 801: set(),\n",
       " 802: set(),\n",
       " 803: set(),\n",
       " 804: set(),\n",
       " 805: set(),\n",
       " 806: set(),\n",
       " 807: set(),\n",
       " 808: set(),\n",
       " 809: set(),\n",
       " 810: set(),\n",
       " 811: set(),\n",
       " 812: set(),\n",
       " 813: set(),\n",
       " 814: set(),\n",
       " 815: set(),\n",
       " 816: set(),\n",
       " 817: set(),\n",
       " 818: set(),\n",
       " 819: set(),\n",
       " 820: set(),\n",
       " 821: set(),\n",
       " 822: set(),\n",
       " 823: set(),\n",
       " 824: set(),\n",
       " 825: set(),\n",
       " 826: set(),\n",
       " 827: set(),\n",
       " 828: set(),\n",
       " 829: set(),\n",
       " 830: set(),\n",
       " 831: set(),\n",
       " 832: set(),\n",
       " 833: set(),\n",
       " 834: set(),\n",
       " 835: set(),\n",
       " 836: set(),\n",
       " 837: set(),\n",
       " 838: set(),\n",
       " 839: set(),\n",
       " 840: set(),\n",
       " 841: set(),\n",
       " 842: set(),\n",
       " 843: set(),\n",
       " 844: set(),\n",
       " 845: set(),\n",
       " 846: set(),\n",
       " 847: set(),\n",
       " 848: set(),\n",
       " 849: set(),\n",
       " 850: set(),\n",
       " 851: set(),\n",
       " 852: set(),\n",
       " 853: set(),\n",
       " 854: set(),\n",
       " 855: set(),\n",
       " 856: set(),\n",
       " 857: set(),\n",
       " 858: set(),\n",
       " 859: set(),\n",
       " 860: set(),\n",
       " 861: set(),\n",
       " 862: set(),\n",
       " 863: set(),\n",
       " 864: set(),\n",
       " 865: set(),\n",
       " 866: set(),\n",
       " 867: set(),\n",
       " 868: set(),\n",
       " 869: set(),\n",
       " 870: set(),\n",
       " 871: set(),\n",
       " 872: set(),\n",
       " 873: set(),\n",
       " 874: set(),\n",
       " 875: set(),\n",
       " 876: set(),\n",
       " 877: set(),\n",
       " 878: set(),\n",
       " 879: set(),\n",
       " 880: set(),\n",
       " 881: set(),\n",
       " 882: set(),\n",
       " 883: set(),\n",
       " 884: set(),\n",
       " 885: set(),\n",
       " 886: set(),\n",
       " 887: set(),\n",
       " 888: set(),\n",
       " 889: set(),\n",
       " 890: set(),\n",
       " 891: set(),\n",
       " 892: set(),\n",
       " 893: set(),\n",
       " 894: set(),\n",
       " 895: set(),\n",
       " 896: set(),\n",
       " 897: set(),\n",
       " 898: set(),\n",
       " 899: set(),\n",
       " 900: set(),\n",
       " 901: set(),\n",
       " 902: set(),\n",
       " 903: set(),\n",
       " 904: set(),\n",
       " 905: set(),\n",
       " 906: set(),\n",
       " 907: set(),\n",
       " 908: set(),\n",
       " 909: set(),\n",
       " 910: set(),\n",
       " 911: set(),\n",
       " 912: set(),\n",
       " 913: set(),\n",
       " 914: set(),\n",
       " 915: set(),\n",
       " 916: set(),\n",
       " 917: set(),\n",
       " 918: set(),\n",
       " 919: set(),\n",
       " 920: set(),\n",
       " 921: set(),\n",
       " 922: set(),\n",
       " 923: set(),\n",
       " 924: set(),\n",
       " 925: set(),\n",
       " 926: set(),\n",
       " 927: set(),\n",
       " 928: set(),\n",
       " 929: set(),\n",
       " 930: set(),\n",
       " 931: set(),\n",
       " 932: set(),\n",
       " 933: set(),\n",
       " 934: set(),\n",
       " 935: set(),\n",
       " 936: set(),\n",
       " 937: set(),\n",
       " 938: set(),\n",
       " 939: set(),\n",
       " 940: set(),\n",
       " 941: set(),\n",
       " 942: set(),\n",
       " 943: set(),\n",
       " 944: set(),\n",
       " 945: set(),\n",
       " 946: set(),\n",
       " 947: set(),\n",
       " 948: set(),\n",
       " 949: set(),\n",
       " 950: set(),\n",
       " 951: set(),\n",
       " 952: set(),\n",
       " 953: set(),\n",
       " 954: set(),\n",
       " 955: set(),\n",
       " 956: set(),\n",
       " 957: set(),\n",
       " 958: set(),\n",
       " 959: set(),\n",
       " 960: set(),\n",
       " 961: set(),\n",
       " 962: set(),\n",
       " 963: set(),\n",
       " 964: set(),\n",
       " 965: set(),\n",
       " 966: set(),\n",
       " 967: set(),\n",
       " 968: set(),\n",
       " 969: set(),\n",
       " 970: set(),\n",
       " 971: set(),\n",
       " 972: set(),\n",
       " 973: set(),\n",
       " 974: set(),\n",
       " 975: set(),\n",
       " 976: set(),\n",
       " 977: set(),\n",
       " 978: set(),\n",
       " 979: set(),\n",
       " 980: set(),\n",
       " 981: set(),\n",
       " 982: set(),\n",
       " 983: set(),\n",
       " 984: set(),\n",
       " 985: set(),\n",
       " 986: set(),\n",
       " 987: set(),\n",
       " 988: set(),\n",
       " 989: set(),\n",
       " 990: set(),\n",
       " 991: set(),\n",
       " 992: set(),\n",
       " 993: set(),\n",
       " 994: set(),\n",
       " 995: set(),\n",
       " 996: set(),\n",
       " 997: set(),\n",
       " 998: set(),\n",
       " 999: set(),\n",
       " ...}"
      ]
     },
     "execution_count": 55,
     "metadata": {},
     "output_type": "execute_result"
    }
   ],
   "source": [
    "[num if num,cifra in ]"
   ]
  },
  {
   "cell_type": "code",
   "execution_count": null,
   "metadata": {},
   "outputs": [],
   "source": []
  }
 ],
 "metadata": {
  "kernelspec": {
   "display_name": "Python 3",
   "language": "python",
   "name": "python3"
  },
  "language_info": {
   "codemirror_mode": {
    "name": "ipython",
    "version": 3
   },
   "file_extension": ".py",
   "mimetype": "text/x-python",
   "name": "python",
   "nbconvert_exporter": "python",
   "pygments_lexer": "ipython3",
   "version": "3.7.4"
  }
 },
 "nbformat": 4,
 "nbformat_minor": 4
}
