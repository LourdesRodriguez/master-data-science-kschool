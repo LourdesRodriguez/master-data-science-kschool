{
 "cells": [
  {
   "cell_type": "code",
   "execution_count": 1,
   "metadata": {},
   "outputs": [
    {
     "name": "stdout",
     "output_type": "stream",
     "text": [
      "\n",
      "bzcat: I/O or other error, bailing out.  Possible reason follows.\n",
      "bzcat: Broken pipe\n",
      "\tInput file = ./bookings.csv.bz2, output file = (stdout)\n"
     ]
    }
   ],
   "source": [
    "# 1- Descomprimimos el archivo\n",
    "# 2- Leemos las 10000 primeras líneas\n",
    "# 3- Guardamos una muestra dentro de un nuevo fichero\n",
    "\n",
    "! bzcat ./bookings.csv.bz2 | head -10000 > ./bookings.sample.csv"
   ]
  },
  {
   "cell_type": "code",
   "execution_count": 2,
   "metadata": {},
   "outputs": [
    {
     "name": "stdout",
     "output_type": "stream",
     "text": [
      "/home/dsc/Data/challenge\n"
     ]
    }
   ],
   "source": [
    "!pwd"
   ]
  },
  {
   "cell_type": "code",
   "execution_count": 3,
   "metadata": {},
   "outputs": [],
   "source": [
    "!cd .. "
   ]
  },
  {
   "cell_type": "code",
   "execution_count": 4,
   "metadata": {},
   "outputs": [],
   "source": [
    "! bzip2 -f ./bookings.sample.csv"
   ]
  },
  {
   "cell_type": "code",
   "execution_count": 6,
   "metadata": {},
   "outputs": [
    {
     "name": "stdout",
     "output_type": "stream",
     "text": [
      "10000\n"
     ]
    }
   ],
   "source": [
    "# Numero de líneas\n",
    "\n",
    "! bzcat ./bookings.sample.csv.bz2 | wc -l"
   ]
  },
  {
   "cell_type": "code",
   "execution_count": 7,
   "metadata": {},
   "outputs": [],
   "source": [
    "# Realizamos el ejercício desde Python\n",
    "# Libreria bz2\n",
    "import bz2"
   ]
  },
  {
   "cell_type": "code",
   "execution_count": 8,
   "metadata": {},
   "outputs": [],
   "source": [
    "fileBz2=bz2.BZ2File('./bookings.sample.csv.bz2')"
   ]
  },
  {
   "cell_type": "code",
   "execution_count": 9,
   "metadata": {},
   "outputs": [
    {
     "data": {
      "text/plain": [
       "bz2.BZ2File"
      ]
     },
     "execution_count": 9,
     "metadata": {},
     "output_type": "execute_result"
    }
   ],
   "source": [
    "type(fileBz2)"
   ]
  },
  {
   "cell_type": "code",
   "execution_count": 10,
   "metadata": {},
   "outputs": [],
   "source": [
    "k=0\n",
    "for line in fileBz2:\n",
    "    k+=1"
   ]
  },
  {
   "cell_type": "code",
   "execution_count": 11,
   "metadata": {},
   "outputs": [
    {
     "name": "stdout",
     "output_type": "stream",
     "text": [
      "10000\n"
     ]
    }
   ],
   "source": [
    "print(k)"
   ]
  },
  {
   "cell_type": "code",
   "execution_count": 12,
   "metadata": {},
   "outputs": [],
   "source": [
    "fileBz2.close()"
   ]
  },
  {
   "cell_type": "code",
   "execution_count": 13,
   "metadata": {},
   "outputs": [
    {
     "data": {
      "text/plain": [
       "True"
      ]
     },
     "execution_count": 13,
     "metadata": {},
     "output_type": "execute_result"
    }
   ],
   "source": [
    "fileBz2.closed"
   ]
  },
  {
   "cell_type": "code",
   "execution_count": 14,
   "metadata": {},
   "outputs": [
    {
     "name": "stdout",
     "output_type": "stream",
     "text": [
      "10000\n"
     ]
    }
   ],
   "source": [
    "with bz2.BZ2File('./bookings.sample.csv.bz2') as fileBz2: \n",
    "    k=0\n",
    "    for line in fileBz2:\n",
    "        k+=1\n",
    "    print(k)"
   ]
  },
  {
   "cell_type": "code",
   "execution_count": 15,
   "metadata": {},
   "outputs": [
    {
     "name": "stdout",
     "output_type": "stream",
     "text": [
      "10000\n"
     ]
    }
   ],
   "source": [
    "#Utilizamos la sentencia try/except \n",
    "\n",
    "try:\n",
    "    with bz2.BZ2File('./bookings.sample.csv.bz2') as fileBz2:\n",
    "        k=0\n",
    "        for line in fileBz2:\n",
    "            k+=1\n",
    "        print(k)\n",
    "except FileNotFoundError:\n",
    "    print (\"File not found\")\n",
    "except:\n",
    "    print(\"unexpected error\")"
   ]
  },
  {
   "cell_type": "code",
   "execution_count": 16,
   "metadata": {},
   "outputs": [
    {
     "name": "stdout",
     "output_type": "stream",
     "text": [
      "10000\n"
     ]
    }
   ],
   "source": [
    "# Otra forma más avanzada del try/except\n",
    "try:\n",
    "    with bz2.BZ2File('./bookings.sample.csv.bz2') as fileBz2:\n",
    "        k=0\n",
    "        for line in fileBz2:\n",
    "            k+=1\n",
    "        print(k)\n",
    "except FileNotFoundError as message:\n",
    "    print (message)\n",
    "except:\n",
    "    print(\"unexpected error\")"
   ]
  },
  {
   "cell_type": "code",
   "execution_count": 17,
   "metadata": {},
   "outputs": [],
   "source": [
    "# Otra forma con Pandas\n",
    "\n",
    "import pandas as pd"
   ]
  },
  {
   "cell_type": "code",
   "execution_count": 18,
   "metadata": {},
   "outputs": [
    {
     "name": "stdout",
     "output_type": "stream",
     "text": [
      "act_date           \n",
      "source\n",
      "pos_ctry\n",
      "pos_iata\n",
      "pos_oid  \n",
      "rloc          \n",
      "cre_date           \n",
      "duration\n",
      "distance\n",
      "dep_port\n",
      "dep_city\n",
      "dep_ctry\n",
      "arr_port\n",
      "arr_city\n",
      "arr_ctry\n",
      "lst_port\n",
      "lst_city\n",
      "lst_ctry\n",
      "brd_port\n",
      "brd_city\n",
      "brd_ctry\n",
      "off_port\n",
      "off_city\n",
      "off_ctry\n",
      "mkt_port\n",
      "mkt_city\n",
      "mkt_ctry\n",
      "intl\n",
      "route          \n",
      "carrier\n",
      "bkg_class\n",
      "cab_class\n",
      "brd_time           \n",
      "off_time           \n",
      "pax\n",
      "year\n",
      "month\n",
      "oid      \n",
      "\n",
      "bzcat: I/O or other error, bailing out.  Possible reason follows.\n",
      "bzcat: Broken pipe\n",
      "\tInput file = bookings.sample.csv.bz2, output file = (stdout)\n"
     ]
    }
   ],
   "source": [
    "! bzcat bookings.sample.csv.bz2 | head -1 | tr ^ \"\\n\""
   ]
  },
  {
   "cell_type": "code",
   "execution_count": 19,
   "metadata": {},
   "outputs": [],
   "source": [
    "df = pd.read_csv('bookings.sample.csv.bz2', sep=\"^\", usecols=[\"pax\"])"
   ]
  },
  {
   "cell_type": "code",
   "execution_count": 20,
   "metadata": {},
   "outputs": [
    {
     "data": {
      "text/plain": [
       "((9999, 1), 9999)"
      ]
     },
     "execution_count": 20,
     "metadata": {},
     "output_type": "execute_result"
    }
   ],
   "source": [
    "df.shape, len(df)"
   ]
  }
 ],
 "metadata": {
  "kernelspec": {
   "display_name": "Python 3",
   "language": "python",
   "name": "python3"
  },
  "language_info": {
   "codemirror_mode": {
    "name": "ipython",
    "version": 3
   },
   "file_extension": ".py",
   "mimetype": "text/x-python",
   "name": "python",
   "nbconvert_exporter": "python",
   "pygments_lexer": "ipython3",
   "version": "3.7.1"
  }
 },
 "nbformat": 4,
 "nbformat_minor": 2
}
